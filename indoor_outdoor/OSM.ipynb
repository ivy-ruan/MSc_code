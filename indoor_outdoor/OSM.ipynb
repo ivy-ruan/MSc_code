{
 "cells": [
  {
   "cell_type": "code",
   "execution_count": 69,
   "metadata": {},
   "outputs": [],
   "source": [
    "# extract road / landuse / station features from OSM"
   ]
  },
  {
   "cell_type": "code",
   "execution_count": 1,
   "metadata": {},
   "outputs": [],
   "source": [
    "import geojson\n",
    "import geopandas as gpd\n",
    "import pandas as pd\n",
    "import folium\n",
    "import utm\n",
    "from shapely import geometry\n",
    "from shapely import ops\n",
    "import numpy as np\n",
    "import os\n",
    "import data_process as dp\n",
    "import warnings\n",
    "warnings. filterwarnings(\"ignore\")"
   ]
  },
  {
   "cell_type": "markdown",
   "metadata": {},
   "source": [
    "## Load geojson map and extract road from OSM"
   ]
  },
  {
   "cell_type": "code",
   "execution_count": 2,
   "metadata": {},
   "outputs": [],
   "source": [
    "def utm_convert(row):\n",
    "    ls = []\n",
    "    for y in row['location']:\n",
    "        ls.append(list(utm.from_latlon(y[1],y[0])[0:2]))\n",
    "        # convert location information in latitude and longitude to Universal Transverse Mercator coordinate system (UTM). \n",
    "        # This is especially useful for large dense arrays in a small area\n",
    "    return ls "
   ]
  },
  {
   "cell_type": "code",
   "execution_count": 3,
   "metadata": {},
   "outputs": [],
   "source": [
    "def linestring(row):\n",
    "    return geometry.LineString(row.location)"
   ]
  },
  {
   "cell_type": "code",
   "execution_count": 4,
   "metadata": {},
   "outputs": [],
   "source": [
    "def polygon(row):\n",
    "    try: \n",
    "        temp = geometry.Polygon(row.location)\n",
    "        return temp\n",
    "    except:\n",
    "        return np.nan"
   ]
  },
  {
   "cell_type": "markdown",
   "metadata": {},
   "source": [
    "## Extract station information"
   ]
  },
  {
   "cell_type": "code",
   "execution_count": 492,
   "metadata": {},
   "outputs": [],
   "source": [
    "# Path to relevant geojson map of OSM features\n",
    "# Edinburgh\n",
    "\n",
    "osmStation = []\n",
    "\n",
    "path = './data/geojson/trainingmap.geojson'\n",
    "with open(path, encoding=\"utf-8\") as f:\n",
    "    osmlines = geojson.load(f)\n",
    "for allFeatures in osmlines.features:\n",
    "    if 'highway' in allFeatures['properties']:\n",
    "        if allFeatures[\"properties\"][\"highway\"] == \"bus_stop\":\n",
    "            roadinfo = allFeatures['properties']\n",
    "            roadinfo['station'] = 'bus_stop'\n",
    "            locarr = np.array(allFeatures['geometry']['coordinates'], dtype=\"object\")\n",
    "        \n",
    "            if locarr.ndim == 3:\n",
    "                locarr = locarr.reshape(-1, locarr.shape[-1])  # 3-dim -> 2-dim\n",
    "            if locarr.ndim == 1:\n",
    "                locarr = np.array([locarr,locarr]) \n",
    "            roadinfo['location'] = locarr\n",
    "            osmStation.append(roadinfo)\n",
    "\n",
    "    if 'railway' in allFeatures['properties']:\n",
    "        if allFeatures[\"properties\"][\"railway\"] == \"station\" or allFeatures[\"properties\"][\"railway\"] == 'halt' \\\n",
    "        or allFeatures[\"properties\"][\"railway\"] == \"platform\" or allFeatures[\"properties\"][\"railway\"] == \"stop\":\n",
    "            roadinfo = allFeatures['properties']\n",
    "            roadinfo['station'] = 'railway_station'\n",
    "            locarr = np.array(allFeatures['geometry']['coordinates'], dtype=\"object\")\n",
    "        \n",
    "            if locarr.ndim == 3:\n",
    "                locarr = locarr.reshape(-1, locarr.shape[-1])  # 3-dim -> 2-dim\n",
    "            if locarr.ndim == 1:\n",
    "                locarr = np.array([locarr,locarr]) \n",
    "            roadinfo['location'] = locarr\n",
    "            osmStation.append(roadinfo)\n",
    "            \n",
    "        elif allFeatures[\"properties\"][\"railway\"] == \"subway_entrance\":\n",
    "            roadinfo = allFeatures['properties']\n",
    "            roadinfo['station'] = 'subway_station'\n",
    "            locarr = np.array(allFeatures['geometry']['coordinates'], dtype=\"object\")\n",
    "        \n",
    "            if locarr.ndim == 3:\n",
    "                locarr = locarr.reshape(-1, locarr.shape[-1])  # 3-dim -> 2-dim\n",
    "            if locarr.ndim == 1:\n",
    "                locarr = np.array([locarr,locarr]) \n",
    "            roadinfo['location'] = locarr\n",
    "            osmStation.append(roadinfo)\n",
    "\n",
    "    if 'station' in allFeatures['properties']:\n",
    "        if allFeatures[\"properties\"][\"station\"] == 'subway':\n",
    "            roadinfo = allFeatures['properties']\n",
    "            roadinfo['station'] = 'subway_station'\n",
    "            locarr = np.array(allFeatures['geometry']['coordinates'], dtype=\"object\")\n",
    "        \n",
    "            if locarr.ndim == 3:\n",
    "                locarr = locarr.reshape(-1, locarr.shape[-1])  # 3-dim -> 2-dim\n",
    "            if locarr.ndim == 1:\n",
    "                locarr = np.array([locarr,locarr]) \n",
    "            roadinfo['location'] = locarr\n",
    "            osmStation.append(roadinfo)\n",
    "                       \n",
    "osmStation = pd.DataFrame.from_dict(osmStation)\n",
    "osmStation = osmStation.set_index('id')"
   ]
  },
  {
   "cell_type": "code",
   "execution_count": 375,
   "metadata": {},
   "outputs": [],
   "source": [
    "# Path to relevant geojson map of OSM features\n",
    "# London / Delhi\n",
    "\n",
    "osmStation = []\n",
    "for i in range(1,6):\n",
    "    path = './data/geojson/toby_new/map{}.geojson'.format(i) \n",
    "    with open(path, encoding=\"utf-8\") as f:\n",
    "        osmlines = geojson.load(f)\n",
    "    for allFeatures in osmlines.features:\n",
    "        if 'highway' in allFeatures['properties']:\n",
    "            if allFeatures[\"properties\"][\"highway\"] == \"bus_stop\":\n",
    "                roadinfo = allFeatures['properties']\n",
    "                roadinfo['station'] = 'bus_stop'\n",
    "                locarr = np.array(allFeatures['geometry']['coordinates'], dtype=\"object\")\n",
    "        \n",
    "                if locarr.ndim == 3:\n",
    "                    locarr = locarr.reshape(-1, locarr.shape[-1])  # 3-dim -> 2-dim\n",
    "                if locarr.ndim == 1:\n",
    "                    locarr = np.array([locarr,locarr]) \n",
    "                roadinfo['location'] = locarr\n",
    "                osmStation.append(roadinfo)\n",
    "\n",
    "        if 'railway' in allFeatures['properties']:\n",
    "            if allFeatures[\"properties\"][\"railway\"] == \"station\" or allFeatures[\"properties\"][\"railway\"] == 'halt' \\\n",
    "            or allFeatures[\"properties\"][\"railway\"] == \"platform\" or allFeatures[\"properties\"][\"railway\"] == \"stop\":\n",
    "                roadinfo = allFeatures['properties']\n",
    "                roadinfo['station'] = 'railway_station'\n",
    "                locarr = np.array(allFeatures['geometry']['coordinates'], dtype=\"object\")\n",
    "        \n",
    "                if locarr.ndim == 3:\n",
    "                    locarr = locarr.reshape(-1, locarr.shape[-1])  # 3-dim -> 2-dim\n",
    "                if locarr.ndim == 1:\n",
    "                    locarr = np.array([locarr,locarr]) \n",
    "                roadinfo['location'] = locarr\n",
    "                osmStation.append(roadinfo)\n",
    "            \n",
    "            elif allFeatures[\"properties\"][\"railway\"] == \"subway_entrance\":\n",
    "                roadinfo = allFeatures['properties']\n",
    "                roadinfo['station'] = 'subway_station'\n",
    "                locarr = np.array(allFeatures['geometry']['coordinates'], dtype=\"object\")\n",
    "        \n",
    "                if locarr.ndim == 3:\n",
    "                    locarr = locarr.reshape(-1, locarr.shape[-1])  # 3-dim -> 2-dim\n",
    "                if locarr.ndim == 1:\n",
    "                    locarr = np.array([locarr,locarr]) \n",
    "                roadinfo['location'] = locarr\n",
    "                osmStation.append(roadinfo)\n",
    "\n",
    "        if 'station' in allFeatures['properties']:\n",
    "            if allFeatures[\"properties\"][\"station\"] == 'subway':\n",
    "                roadinfo = allFeatures['properties']\n",
    "                roadinfo['station'] = 'subway_station'\n",
    "                locarr = np.array(allFeatures['geometry']['coordinates'], dtype=\"object\")\n",
    "        \n",
    "                if locarr.ndim == 3:\n",
    "                    locarr = locarr.reshape(-1, locarr.shape[-1])  # 3-dim -> 2-dim\n",
    "                if locarr.ndim == 1:\n",
    "                    locarr = np.array([locarr,locarr]) \n",
    "                roadinfo['location'] = locarr\n",
    "                osmStation.append(roadinfo)\n",
    "                       \n",
    "osmStation = pd.DataFrame.from_dict(osmStation)\n",
    "osmStation = osmStation.set_index('osm_id')"
   ]
  },
  {
   "cell_type": "code",
   "execution_count": 493,
   "metadata": {},
   "outputs": [
    {
     "data": {
      "text/plain": [
       "(1729, 84)"
      ]
     },
     "execution_count": 493,
     "metadata": {},
     "output_type": "execute_result"
    }
   ],
   "source": [
    "osmStation.shape"
   ]
  },
  {
   "cell_type": "markdown",
   "metadata": {},
   "source": [
    "## Add station info to dataset"
   ]
  },
  {
   "cell_type": "code",
   "execution_count": 494,
   "metadata": {},
   "outputs": [
    {
     "data": {
      "text/plain": [
       "(array(['bus_stop', 'railway_station'], dtype=object), array([1620,  109]))"
      ]
     },
     "execution_count": 494,
     "metadata": {},
     "output_type": "execute_result"
    }
   ],
   "source": [
    "np.unique(osmStation['station'].astype(str), return_counts=True)"
   ]
  },
  {
   "cell_type": "code",
   "execution_count": 495,
   "metadata": {},
   "outputs": [],
   "source": [
    "# Filtering and pre-processing \n",
    "# osmRoads = osmRoads[osmRoads['type'] != 'multipolygon']\n",
    "osmStation['utmLocation'] = osmStation.apply(lambda row: utm_convert(row), axis=1) # convert to utm coordinate\n",
    "osmStation['locationLineString'] = osmStation.apply(lambda row: linestring(row), axis=1)\n",
    "# construct the line using a list of coordinate-tuples\n",
    "osmStation = osmStation.filter(['name','station', 'location', 'utmLocation', 'locationLineString'])\n",
    "# only care about related attributes "
   ]
  },
  {
   "cell_type": "code",
   "execution_count": 496,
   "metadata": {},
   "outputs": [
    {
     "data": {
      "text/plain": [
       "rtree.index.Index(bounds=[-3.419375, 53.2677, -2.329946, 55.990886], size=1729)"
      ]
     },
     "execution_count": 496,
     "metadata": {},
     "output_type": "execute_result"
    }
   ],
   "source": [
    "osm_station = gpd.GeoDataFrame(osmStation)\n",
    "osm_station = osm_station.rename({'locationLineString': 'geometry'}, axis = 1)\n",
    "osm_station['geometry'] = gpd.GeoSeries(osm_station['geometry'])\n",
    "osm_station.sindex"
   ]
  },
  {
   "cell_type": "code",
   "execution_count": 497,
   "metadata": {},
   "outputs": [],
   "source": [
    "data_dir = \"./data/indoor_outdoor\"\n",
    "data_path = os.path.join(data_dir, \"new_data_set.csv\")\n",
    "#data_path = os.path.join(data_dir, \"london_unseen_data.csv\")\n",
    "#data_path = os.path.join(data_dir, \"all_data_new_select.csv\")\n",
    "full_data = pd.read_csv(data_path)"
   ]
  },
  {
   "cell_type": "code",
   "execution_count": 498,
   "metadata": {},
   "outputs": [],
   "source": [
    "def min_max_norm(data, col):\n",
    "    target_col = data[col]\n",
    "    max_num = max(target_col.dropna())\n",
    "    min_num = min(target_col.dropna())\n",
    "    std = (target_col - min_num) / (max_num - min_num)\n",
    "    data[col] = std\n",
    "    \n",
    "    return data"
   ]
  },
  {
   "cell_type": "code",
   "execution_count": 499,
   "metadata": {},
   "outputs": [],
   "source": [
    "full_data = min_max_norm(full_data, 'temperature')\n",
    "full_data = min_max_norm(full_data, 'humidity')"
   ]
  },
  {
   "cell_type": "code",
   "execution_count": 500,
   "metadata": {},
   "outputs": [],
   "source": [
    "# Now convert this to a points geoDataFrame\n",
    "points_full = gpd.GeoDataFrame(full_data, geometry = gpd.points_from_xy(full_data['gpsLongitude'],full_data['gpsLatitude']))"
   ]
  },
  {
   "cell_type": "code",
   "execution_count": 501,
   "metadata": {},
   "outputs": [],
   "source": [
    "offset = 0.00025 # Roughly 50 meters\n",
    "bbox_full = points_full.bounds + [-offset, -offset, offset, offset]"
   ]
  },
  {
   "cell_type": "code",
   "execution_count": 502,
   "metadata": {},
   "outputs": [],
   "source": [
    "hits_full = bbox_full.apply(lambda row: list(osm_station.sindex.intersection(row)), axis=1)"
   ]
  },
  {
   "cell_type": "code",
   "execution_count": 503,
   "metadata": {},
   "outputs": [],
   "source": [
    "dist_df_full = pd.DataFrame({'pt_idx':np.repeat(hits_full.index, hits_full.apply(len)), 'close_station_idx': np.concatenate(hits_full.values)})\n",
    "dist_df_full = dist_df_full.join(points_full['geometry'].rename('point'), on='pt_idx')\n",
    "dist_df_full = dist_df_full.join(osm_station[['geometry','location', 'station']].reset_index(drop=True), on='close_station_idx')\n",
    "\n",
    "dist_gdf_full = gpd.GeoDataFrame(dist_df_full)\n",
    "dist_gdf_full['station_distance'] = dist_gdf_full['geometry'].distance(gpd.GeoSeries(dist_gdf_full['point']))\n",
    "dist_gdf_full = dist_gdf_full.sort_values(by=['station_distance'])\n",
    "dist_gdf_full = dist_gdf_full.groupby('pt_idx').first()"
   ]
  },
  {
   "cell_type": "code",
   "execution_count": 504,
   "metadata": {},
   "outputs": [
    {
     "data": {
      "text/plain": [
       "(array(['bus_stop', 'none', 'railway_station'], dtype=object),\n",
       " array([ 538, 3947,   66]))"
      ]
     },
     "execution_count": 504,
     "metadata": {},
     "output_type": "execute_result"
    }
   ],
   "source": [
    "new_full_data = full_data.join(dist_gdf_full[['station', 'station_distance', 'close_station_idx']])\n",
    "new_full_data['station'] = new_full_data['station'].fillna('none')\n",
    "new_full_data['station_distance'] = new_full_data['station_distance'].fillna(0.010)\n",
    "np.unique(new_full_data['station'].astype(str), return_counts=True)"
   ]
  },
  {
   "cell_type": "code",
   "execution_count": 505,
   "metadata": {},
   "outputs": [
    {
     "data": {
      "text/plain": [
       "(4551, 33)"
      ]
     },
     "execution_count": 505,
     "metadata": {},
     "output_type": "execute_result"
    }
   ],
   "source": [
    "new_full_data.shape"
   ]
  },
  {
   "cell_type": "code",
   "execution_count": 506,
   "metadata": {},
   "outputs": [],
   "source": [
    "new_full_data.to_csv(os.path.join(data_dir,'new_data_set_with_station.csv'))\n",
    "#new_full_data.to_csv(os.path.join(data_dir,'london_unseen_data_with_station.csv'))\n",
    "#new_full_data.to_csv(os.path.join(data_dir,'all_data_new_select_with_station.csv'))"
   ]
  },
  {
   "cell_type": "markdown",
   "metadata": {},
   "source": [
    "## Process OSM road feature"
   ]
  },
  {
   "cell_type": "code",
   "execution_count": 538,
   "metadata": {},
   "outputs": [],
   "source": [
    "# Path to relevant geojson map of OSM features\n",
    "# Edinburgh\n",
    "\n",
    "osmRoads = []\n",
    "\n",
    "path = './data/geojson/trainingmap.geojson'\n",
    "with open(path, encoding=\"utf-8\") as f:\n",
    "    osmlines = geojson.load(f)\n",
    "for allFeatures in osmlines.features:\n",
    "    if 'highway' in allFeatures['properties']:\n",
    "        roadinfo = allFeatures['properties']\n",
    "        \n",
    "        locarr = np.array(allFeatures['geometry']['coordinates'], dtype=\"object\")\n",
    "        \n",
    "        if locarr.ndim == 3:\n",
    "            locarr = locarr.reshape(-1, locarr.shape[-1])  # 3-dim -> 2-dim\n",
    "        \n",
    "        if locarr.ndim == 1:\n",
    "            locarr = np.array([locarr,locarr]) \n",
    "        \n",
    "        roadinfo['location'] = locarr\n",
    "        \n",
    "        osmRoads.append(roadinfo)\n",
    "osmRoads = pd.DataFrame.from_dict(osmRoads)\n",
    "osmRoads = osmRoads.set_index('id')"
   ]
  },
  {
   "cell_type": "code",
   "execution_count": 5,
   "metadata": {},
   "outputs": [],
   "source": [
    "# Path to relevant geojson map of OSM features  \n",
    "# London / Delhi\n",
    "osmRoads = []\n",
    "\n",
    "for i in range(1,6):\n",
    "    path = './data/geojson/toby_new/map{}.geojson'.format(i) \n",
    "    with open(path, encoding=\"utf-8\") as f:\n",
    "        osmlines = geojson.load(f)\n",
    "    for allFeatures in osmlines.features:\n",
    "        if 'highway' in allFeatures['properties']:\n",
    "            roadinfo = allFeatures['properties']\n",
    "        \n",
    "            locarr = np.array(allFeatures['geometry']['coordinates'], dtype=\"object\")\n",
    "        \n",
    "            if locarr.ndim == 3:\n",
    "                locarr = locarr.reshape(-1, locarr.shape[-1])  # 3-dim -> 2-dim\n",
    "        \n",
    "            if locarr.ndim == 1:\n",
    "                locarr = np.array([locarr,locarr]) \n",
    "        \n",
    "            roadinfo['location'] = locarr\n",
    "        \n",
    "            osmRoads.append(roadinfo)\n",
    "osmRoads = pd.DataFrame.from_dict(osmRoads)\n",
    "osmRoads = osmRoads.set_index('osm_id')"
   ]
  },
  {
   "cell_type": "code",
   "execution_count": 37,
   "metadata": {},
   "outputs": [
    {
     "data": {
      "text/plain": [
       "(229403, 5)"
      ]
     },
     "execution_count": 37,
     "metadata": {},
     "output_type": "execute_result"
    }
   ],
   "source": [
    "osmRoads.shape"
   ]
  },
  {
   "cell_type": "markdown",
   "metadata": {},
   "source": [
    "## Process highway type"
   ]
  },
  {
   "cell_type": "code",
   "execution_count": 38,
   "metadata": {},
   "outputs": [
    {
     "data": {
      "text/plain": [
       "(array(['footway', 'motorway', 'primary_secondary', 'residential',\n",
       "        'tertiary', 'unclassified', 'unknown'], dtype=object),\n",
       " array([76938,   180, 11937, 79825,  5204,  6435, 48884]))"
      ]
     },
     "execution_count": 38,
     "metadata": {},
     "output_type": "execute_result"
    }
   ],
   "source": [
    "np.unique(osmRoads['highway'].astype(str), return_counts=True)"
   ]
  },
  {
   "cell_type": "code",
   "execution_count": 8,
   "metadata": {},
   "outputs": [],
   "source": [
    "# Elements in osmRoad: 33757\n",
    "# bus_stop: 1620; crossing: 891; cycleway: 552; footway: 8053; give_way: 1704; path: 1063; pedestrian: 235; \n",
    "# primary: 662; residential: 4804; service: 8588; steps: 1753; tertiary: 1042; track: 414; unclassified: 802;"
   ]
  },
  {
   "cell_type": "code",
   "execution_count": 10,
   "metadata": {},
   "outputs": [],
   "source": [
    "# Filtering and pre-processing \n",
    "#osmRoads = osmRoads[osmRoads['type'] != 'multipolygon']\n",
    "osmRoads['utmLocation'] = osmRoads.apply(lambda row: utm_convert(row), axis=1) # convert to utm coordinate\n",
    "osmRoads['locationLineString'] = osmRoads.apply(lambda row: linestring(row), axis=1)\n",
    "# construct the line using a list of coordinate-tuples\n",
    "osmRoads = osmRoads.filter(['name','highway', 'location', 'utmLocation', 'locationLineString'])\n",
    "# only care about related attributes "
   ]
  },
  {
   "cell_type": "code",
   "execution_count": 11,
   "metadata": {},
   "outputs": [],
   "source": [
    "for i in range(len(osmRoads)):\n",
    "    road = osmRoads.iloc[i]\n",
    "    \n",
    "    if road['highway'] == 'motorway' or road['highway'] == 'motorway_junction' or road['highway'] == 'motorway_link':\n",
    "        osmRoads.iloc[i]['highway'] = 'motorway'\n",
    "    elif road['highway'] == 'primary' or road['highway'] == 'primary_link':\n",
    "        osmRoads.iloc[i]['highway'] = 'primary_secondary'\n",
    "    elif road['highway'] == 'secondary' or road['highway'] == 'secondary_link':\n",
    "        osmRoads.iloc[i]['highway'] = 'primary_secondary'\n",
    "    elif road['highway'] == 'tertiary' or road['highway'] == 'tertiary_link':\n",
    "        osmRoads.iloc[i]['highway'] = 'tertiary'\n",
    "    elif road['highway'] == 'residential' or road['highway'] == 'living_street' or road['highway'] == 'service':\n",
    "        osmRoads.iloc[i]['highway'] = 'residential'\n",
    "    elif road['highway'] == 'footway' or road['highway'] == 'cycleway' or road['highway'] == 'pedestrian' \\\n",
    "    or road['highway'] == 'path' or road['highway'] == 'steps':\n",
    "        osmRoads.iloc[i]['highway'] = 'footway'\n",
    "    elif road['highway'] == 'unclassified':\n",
    "        osmRoads.iloc[i]['highway'] = 'unclassified'                                                       \n",
    "    else:\n",
    "        osmRoads.iloc[i]['highway'] = 'unknown'"
   ]
  },
  {
   "cell_type": "code",
   "execution_count": null,
   "metadata": {},
   "outputs": [],
   "source": [
    "## only split into residential (residential + footway) & others\n",
    "for i in range(len(osmRoads)):\n",
    "    road = osmRoads.iloc[i]\n",
    "    \n",
    "    if road['highway'] == 'motorway' or road['highway'] == 'motorway_junction' or road['highway'] == 'motorway_link':\n",
    "        osmRoads.iloc[i]['highway'] = 'others'\n",
    "    elif road['highway'] == 'primary' or road['highway'] == 'primary_link':\n",
    "        osmRoads.iloc[i]['highway'] = 'others'\n",
    "    elif road['highway'] == 'secondary' or road['highway'] == 'secondary_link':\n",
    "        osmRoads.iloc[i]['highway'] = 'others'\n",
    "    elif road['highway'] == 'tertiary' or road['highway'] == 'tertiary_link':\n",
    "        osmRoads.iloc[i]['highway'] = 'others'\n",
    "    elif road['highway'] == 'residential' or road['highway'] == 'living_street' or road['highway'] == 'service':\n",
    "        osmRoads.iloc[i]['highway'] = 'residential'\n",
    "    elif road['highway'] == 'footway' or road['highway'] == 'cycleway' or road['highway'] == 'pedestrian' \\\n",
    "    or road['highway'] == 'path' or road['highway'] == 'steps':\n",
    "        osmRoads.iloc[i]['highway'] = 'residential'\n",
    "    elif road['highway'] == 'unclassified':\n",
    "        osmRoads.iloc[i]['highway'] = 'others'                                                       \n",
    "    else:\n",
    "        osmRoads.iloc[i]['highway'] = 'others'"
   ]
  },
  {
   "cell_type": "code",
   "execution_count": 39,
   "metadata": {},
   "outputs": [
    {
     "data": {
      "text/plain": [
       "(array(['footway', 'motorway', 'primary_secondary', 'residential',\n",
       "        'tertiary', 'unclassified', 'unknown'], dtype=object),\n",
       " array([76938,   180, 11937, 79825,  5204,  6435, 48884]))"
      ]
     },
     "execution_count": 39,
     "metadata": {},
     "output_type": "execute_result"
    }
   ],
   "source": [
    "np.unique(osmRoads['highway'].astype(str), return_counts=True)"
   ]
  },
  {
   "cell_type": "markdown",
   "metadata": {},
   "source": [
    "## Find the closest road to each point in the training data"
   ]
  },
  {
   "cell_type": "markdown",
   "metadata": {},
   "source": [
    "1. Find the nearest line to the original location\n",
    "2. Find the road type"
   ]
  },
  {
   "cell_type": "code",
   "execution_count": 40,
   "metadata": {},
   "outputs": [
    {
     "data": {
      "text/plain": [
       "rtree.index.Index(bounds=[-0.405502, 51.428063, 0.015316, 51.684585], size=229403)"
      ]
     },
     "execution_count": 40,
     "metadata": {},
     "output_type": "execute_result"
    }
   ],
   "source": [
    "# Generate Spacial index, first need to convert Dataframe to GeoDataFrame, and series to GeoSeries.\n",
    "# extends popular data science library pandas by adding support for geospatial data\n",
    "# Each GeoSeries can contain any geometry type and has a GeoSeries.crs attribute, \n",
    "# which stores information on the projection (CRS stands for Coordinate Reference System)\n",
    "osm_roads = gpd.GeoDataFrame(osmRoads)\n",
    "osm_roads = osm_roads.rename({'locationLineString': 'geometry'}, axis = 1)\n",
    "osm_roads['geometry'] = gpd.GeoSeries(osm_roads['geometry'])\n",
    "osm_roads.sindex"
   ]
  },
  {
   "cell_type": "code",
   "execution_count": null,
   "metadata": {},
   "outputs": [],
   "source": [
    "osm_roads.head()"
   ]
  },
  {
   "cell_type": "markdown",
   "metadata": {},
   "source": [
    "## Load training data"
   ]
  },
  {
   "cell_type": "code",
   "execution_count": null,
   "metadata": {},
   "outputs": [],
   "source": [
    "data_dir = \"./data/indoor_outdoor\"\n",
    "#data_path = os.path.join(data_dir, \"new_data_set_with_station.csv\")\n",
    "#data_path = os.path.join(data_dir, \"london_unseen_data.csv\")\n",
    "data_path = os.path.join(data_dir, \"all_data_new_select.csv\")\n",
    "full_data = pd.read_csv(data_path)\n",
    "full_data.head()"
   ]
  },
  {
   "cell_type": "code",
   "execution_count": 43,
   "metadata": {},
   "outputs": [
    {
     "data": {
      "text/html": [
       "<div>\n",
       "<style scoped>\n",
       "    .dataframe tbody tr th:only-of-type {\n",
       "        vertical-align: middle;\n",
       "    }\n",
       "\n",
       "    .dataframe tbody tr th {\n",
       "        vertical-align: top;\n",
       "    }\n",
       "\n",
       "    .dataframe thead th {\n",
       "        text-align: right;\n",
       "    }\n",
       "</style>\n",
       "<table border=\"1\" class=\"dataframe\">\n",
       "  <thead>\n",
       "    <tr style=\"text-align: right;\">\n",
       "      <th></th>\n",
       "      <th>Unnamed: 0</th>\n",
       "      <th>phoneTimestamp</th>\n",
       "      <th>pm1</th>\n",
       "      <th>pm2_5</th>\n",
       "      <th>pm10</th>\n",
       "      <th>temperature</th>\n",
       "      <th>humidity</th>\n",
       "      <th>bin0</th>\n",
       "      <th>bin1</th>\n",
       "      <th>bin2</th>\n",
       "      <th>...</th>\n",
       "      <th>subjectID</th>\n",
       "      <th>location</th>\n",
       "      <th>activity</th>\n",
       "      <th>location_type</th>\n",
       "      <th>activity_type</th>\n",
       "      <th>recording_id</th>\n",
       "      <th>timestamp</th>\n",
       "      <th>tubeline</th>\n",
       "      <th>notes</th>\n",
       "      <th>geometry</th>\n",
       "    </tr>\n",
       "  </thead>\n",
       "  <tbody>\n",
       "    <tr>\n",
       "      <th>0</th>\n",
       "      <td>9076</td>\n",
       "      <td>1614763472266</td>\n",
       "      <td>31.357779</td>\n",
       "      <td>68.628010</td>\n",
       "      <td>168.52596</td>\n",
       "      <td>25.9</td>\n",
       "      <td>38.300000</td>\n",
       "      <td>7102.0</td>\n",
       "      <td>1098.0</td>\n",
       "      <td>248.0</td>\n",
       "      <td>...</td>\n",
       "      <td>XXT012</td>\n",
       "      <td>Indoor</td>\n",
       "      <td>Sitting</td>\n",
       "      <td>50</td>\n",
       "      <td>0</td>\n",
       "      <td>147</td>\n",
       "      <td>2021-03-03 09:24:32.266</td>\n",
       "      <td>N/a</td>\n",
       "      <td>N/a</td>\n",
       "      <td>POINT (-0.13229 51.56523)</td>\n",
       "    </tr>\n",
       "    <tr>\n",
       "      <th>1</th>\n",
       "      <td>9077</td>\n",
       "      <td>1614763506447</td>\n",
       "      <td>31.063381</td>\n",
       "      <td>68.659660</td>\n",
       "      <td>199.63565</td>\n",
       "      <td>25.9</td>\n",
       "      <td>39.000000</td>\n",
       "      <td>8090.0</td>\n",
       "      <td>996.0</td>\n",
       "      <td>264.0</td>\n",
       "      <td>...</td>\n",
       "      <td>XXT012</td>\n",
       "      <td>Indoor</td>\n",
       "      <td>Sitting</td>\n",
       "      <td>50</td>\n",
       "      <td>0</td>\n",
       "      <td>147</td>\n",
       "      <td>2021-03-03 09:25:06.447</td>\n",
       "      <td>N/a</td>\n",
       "      <td>N/a</td>\n",
       "      <td>POINT (-0.13215 51.56509)</td>\n",
       "    </tr>\n",
       "    <tr>\n",
       "      <th>2</th>\n",
       "      <td>9078</td>\n",
       "      <td>1614763537409</td>\n",
       "      <td>31.755910</td>\n",
       "      <td>68.593600</td>\n",
       "      <td>211.94217</td>\n",
       "      <td>26.7</td>\n",
       "      <td>37.200000</td>\n",
       "      <td>6981.0</td>\n",
       "      <td>1140.0</td>\n",
       "      <td>237.0</td>\n",
       "      <td>...</td>\n",
       "      <td>XXT012</td>\n",
       "      <td>Indoor</td>\n",
       "      <td>Sitting</td>\n",
       "      <td>50</td>\n",
       "      <td>0</td>\n",
       "      <td>147</td>\n",
       "      <td>2021-03-03 09:25:37.409</td>\n",
       "      <td>N/a</td>\n",
       "      <td>N/a</td>\n",
       "      <td>POINT (-0.13219 51.56506)</td>\n",
       "    </tr>\n",
       "    <tr>\n",
       "      <th>3</th>\n",
       "      <td>9079</td>\n",
       "      <td>1614763569653</td>\n",
       "      <td>31.561163</td>\n",
       "      <td>71.432800</td>\n",
       "      <td>229.19894</td>\n",
       "      <td>27.6</td>\n",
       "      <td>36.100002</td>\n",
       "      <td>7352.0</td>\n",
       "      <td>1043.0</td>\n",
       "      <td>243.0</td>\n",
       "      <td>...</td>\n",
       "      <td>XXT012</td>\n",
       "      <td>Indoor</td>\n",
       "      <td>Sitting</td>\n",
       "      <td>50</td>\n",
       "      <td>0</td>\n",
       "      <td>147</td>\n",
       "      <td>2021-03-03 09:26:09.653</td>\n",
       "      <td>N/a</td>\n",
       "      <td>N/a</td>\n",
       "      <td>POINT (-0.13219 51.56506)</td>\n",
       "    </tr>\n",
       "    <tr>\n",
       "      <th>4</th>\n",
       "      <td>9080</td>\n",
       "      <td>1614763599327</td>\n",
       "      <td>32.124138</td>\n",
       "      <td>66.662285</td>\n",
       "      <td>185.78313</td>\n",
       "      <td>28.2</td>\n",
       "      <td>34.900000</td>\n",
       "      <td>7345.0</td>\n",
       "      <td>977.0</td>\n",
       "      <td>239.0</td>\n",
       "      <td>...</td>\n",
       "      <td>XXT012</td>\n",
       "      <td>Indoor</td>\n",
       "      <td>Sitting</td>\n",
       "      <td>50</td>\n",
       "      <td>0</td>\n",
       "      <td>147</td>\n",
       "      <td>2021-03-03 09:26:39.327</td>\n",
       "      <td>N/a</td>\n",
       "      <td>N/a</td>\n",
       "      <td>POINT (-0.13219 51.56506)</td>\n",
       "    </tr>\n",
       "  </tbody>\n",
       "</table>\n",
       "<p>5 rows × 41 columns</p>\n",
       "</div>"
      ],
      "text/plain": [
       "   Unnamed: 0  phoneTimestamp        pm1      pm2_5       pm10  temperature  \\\n",
       "0        9076   1614763472266  31.357779  68.628010  168.52596         25.9   \n",
       "1        9077   1614763506447  31.063381  68.659660  199.63565         25.9   \n",
       "2        9078   1614763537409  31.755910  68.593600  211.94217         26.7   \n",
       "3        9079   1614763569653  31.561163  71.432800  229.19894         27.6   \n",
       "4        9080   1614763599327  32.124138  66.662285  185.78313         28.2   \n",
       "\n",
       "    humidity    bin0    bin1   bin2  ...  subjectID  location  activity  \\\n",
       "0  38.300000  7102.0  1098.0  248.0  ...     XXT012    Indoor   Sitting   \n",
       "1  39.000000  8090.0   996.0  264.0  ...     XXT012    Indoor   Sitting   \n",
       "2  37.200000  6981.0  1140.0  237.0  ...     XXT012    Indoor   Sitting   \n",
       "3  36.100002  7352.0  1043.0  243.0  ...     XXT012    Indoor   Sitting   \n",
       "4  34.900000  7345.0   977.0  239.0  ...     XXT012    Indoor   Sitting   \n",
       "\n",
       "   location_type  activity_type  recording_id                timestamp  \\\n",
       "0             50              0           147  2021-03-03 09:24:32.266   \n",
       "1             50              0           147  2021-03-03 09:25:06.447   \n",
       "2             50              0           147  2021-03-03 09:25:37.409   \n",
       "3             50              0           147  2021-03-03 09:26:09.653   \n",
       "4             50              0           147  2021-03-03 09:26:39.327   \n",
       "\n",
       "   tubeline  notes                   geometry  \n",
       "0       N/a    N/a  POINT (-0.13229 51.56523)  \n",
       "1       N/a    N/a  POINT (-0.13215 51.56509)  \n",
       "2       N/a    N/a  POINT (-0.13219 51.56506)  \n",
       "3       N/a    N/a  POINT (-0.13219 51.56506)  \n",
       "4       N/a    N/a  POINT (-0.13219 51.56506)  \n",
       "\n",
       "[5 rows x 41 columns]"
      ]
     },
     "execution_count": 43,
     "metadata": {},
     "output_type": "execute_result"
    }
   ],
   "source": [
    "# Now convert this to a points geoDataFrame\n",
    "points_full = gpd.GeoDataFrame(full_data, geometry = gpd.points_from_xy(full_data['gpsLongitude'],full_data['gpsLatitude']))\n",
    "points_full.head()"
   ]
  },
  {
   "cell_type": "code",
   "execution_count": 44,
   "metadata": {},
   "outputs": [
    {
     "data": {
      "text/html": [
       "<div>\n",
       "<style scoped>\n",
       "    .dataframe tbody tr th:only-of-type {\n",
       "        vertical-align: middle;\n",
       "    }\n",
       "\n",
       "    .dataframe tbody tr th {\n",
       "        vertical-align: top;\n",
       "    }\n",
       "\n",
       "    .dataframe thead th {\n",
       "        text-align: right;\n",
       "    }\n",
       "</style>\n",
       "<table border=\"1\" class=\"dataframe\">\n",
       "  <thead>\n",
       "    <tr style=\"text-align: right;\">\n",
       "      <th></th>\n",
       "      <th>minx</th>\n",
       "      <th>miny</th>\n",
       "      <th>maxx</th>\n",
       "      <th>maxy</th>\n",
       "    </tr>\n",
       "  </thead>\n",
       "  <tbody>\n",
       "    <tr>\n",
       "      <th>0</th>\n",
       "      <td>-0.132540</td>\n",
       "      <td>51.564977</td>\n",
       "      <td>-0.132040</td>\n",
       "      <td>51.565477</td>\n",
       "    </tr>\n",
       "    <tr>\n",
       "      <th>1</th>\n",
       "      <td>-0.132398</td>\n",
       "      <td>51.564841</td>\n",
       "      <td>-0.131898</td>\n",
       "      <td>51.565341</td>\n",
       "    </tr>\n",
       "    <tr>\n",
       "      <th>2</th>\n",
       "      <td>-0.132443</td>\n",
       "      <td>51.564807</td>\n",
       "      <td>-0.131943</td>\n",
       "      <td>51.565307</td>\n",
       "    </tr>\n",
       "    <tr>\n",
       "      <th>3</th>\n",
       "      <td>-0.132443</td>\n",
       "      <td>51.564807</td>\n",
       "      <td>-0.131943</td>\n",
       "      <td>51.565307</td>\n",
       "    </tr>\n",
       "    <tr>\n",
       "      <th>4</th>\n",
       "      <td>-0.132443</td>\n",
       "      <td>51.564807</td>\n",
       "      <td>-0.131943</td>\n",
       "      <td>51.565307</td>\n",
       "    </tr>\n",
       "  </tbody>\n",
       "</table>\n",
       "</div>"
      ],
      "text/plain": [
       "       minx       miny      maxx       maxy\n",
       "0 -0.132540  51.564977 -0.132040  51.565477\n",
       "1 -0.132398  51.564841 -0.131898  51.565341\n",
       "2 -0.132443  51.564807 -0.131943  51.565307\n",
       "3 -0.132443  51.564807 -0.131943  51.565307\n",
       "4 -0.132443  51.564807 -0.131943  51.565307"
      ]
     },
     "execution_count": 44,
     "metadata": {},
     "output_type": "execute_result"
    }
   ],
   "source": [
    "offset = 0.00025 # Roughly 50 meters\n",
    "bbox_full = points_full.bounds + [-offset, -offset, offset, offset]\n",
    "bbox_full.head()"
   ]
  },
  {
   "cell_type": "code",
   "execution_count": 45,
   "metadata": {},
   "outputs": [
    {
     "data": {
      "text/plain": [
       "0                [106455, 50749, 49222]\n",
       "1                       [106455, 50749]\n",
       "2                       [106455, 50749]\n",
       "3                       [106455, 50749]\n",
       "4                       [106455, 50749]\n",
       "                     ...               \n",
       "7295     [200688, 54923, 158084, 54924]\n",
       "7296      [3009, 152931, 200688, 54925]\n",
       "7297       [152931, 3591, 3010, 200688]\n",
       "7298    [152931, 200688, 54921, 115413]\n",
       "7299            [152931, 62529, 191922]\n",
       "Length: 7300, dtype: object"
      ]
     },
     "execution_count": 45,
     "metadata": {},
     "output_type": "execute_result"
    }
   ],
   "source": [
    "hits_full = bbox_full.apply(lambda row: list(osm_roads.sindex.intersection(row)), axis=1)\n",
    "hits_full"
   ]
  },
  {
   "cell_type": "markdown",
   "metadata": {},
   "source": [
    "## Add road type feature to data set"
   ]
  },
  {
   "cell_type": "code",
   "execution_count": 46,
   "metadata": {},
   "outputs": [],
   "source": [
    "dist_df_full = pd.DataFrame({'pt_idx':np.repeat(hits_full.index, hits_full.apply(len)), 'close_road_idx': np.concatenate(hits_full.values)})\n",
    "dist_df_full = dist_df_full.join(points_full['geometry'].rename('point'), on='pt_idx')\n",
    "dist_df_full = dist_df_full.join(osm_roads[['geometry','location', 'highway']].reset_index(drop=True), on='close_road_idx')\n",
    "\n",
    "dist_gdf_full = gpd.GeoDataFrame(dist_df_full)\n",
    "dist_gdf_full['distance'] = dist_gdf_full['geometry'].distance(gpd.GeoSeries(dist_gdf_full['point']))\n",
    "dist_gdf_full = dist_gdf_full.sort_values(by=['distance'])\n",
    "dist_gdf_full = dist_gdf_full.groupby('pt_idx').first()"
   ]
  },
  {
   "cell_type": "code",
   "execution_count": null,
   "metadata": {},
   "outputs": [],
   "source": [
    "dist_gdf_full.head()"
   ]
  },
  {
   "cell_type": "code",
   "execution_count": 48,
   "metadata": {},
   "outputs": [
    {
     "data": {
      "text/plain": [
       "(array(['footway', 'others', 'primary_secondary', 'residential',\n",
       "        'tertiary', 'unclassified', 'unknown'], dtype=object),\n",
       " array([ 809,  106,  957, 3706,  118,  142, 1462]))"
      ]
     },
     "execution_count": 48,
     "metadata": {},
     "output_type": "execute_result"
    }
   ],
   "source": [
    "new_full_data = full_data.join(dist_gdf_full[['highway', 'distance', 'close_road_idx']])\n",
    "new_full_data['highway'] = new_full_data['highway'].fillna('others')\n",
    "new_full_data['distance'] = new_full_data['distance'].fillna(0.005)\n",
    "np.unique(new_full_data['highway'].astype(str), return_counts=True)"
   ]
  },
  {
   "cell_type": "code",
   "execution_count": null,
   "metadata": {},
   "outputs": [],
   "source": [
    "new_full_data.head()"
   ]
  },
  {
   "cell_type": "code",
   "execution_count": 50,
   "metadata": {},
   "outputs": [],
   "source": [
    "#new_full_data.to_csv(os.path.join(data_dir,'new_data_set_with_station_roads_distance.csv'))\n",
    "#new_full_data.to_csv(os.path.join(data_dir,'london_unseen_data_with_roads_distance.csv'))\n",
    "new_full_data.to_csv(os.path.join(data_dir,'all_data_new_select_with_roads_distance.csv'))"
   ]
  },
  {
   "cell_type": "markdown",
   "metadata": {},
   "source": [
    "## Extract landuse from OSM"
   ]
  },
  {
   "cell_type": "code",
   "execution_count": 571,
   "metadata": {},
   "outputs": [],
   "source": [
    "# path = './data/geojson/unseen_central_london.geojson'\n",
    "# Edinburgh\n",
    "\n",
    "osmLands = []\n",
    "for i in range(1,2):\n",
    "    path = './data/geojson/trainingmap.geojson'\n",
    "    with open(path, encoding=\"utf-8\") as f:\n",
    "        osmlines = geojson.load(f)\n",
    "    for allFeatures in osmlines.features:\n",
    "        if 'landuse' in allFeatures['properties']:\n",
    "            ## OUTLAND\n",
    "            if allFeatures[\"properties\"][\"landuse\"] == \"grass\" or allFeatures[\"properties\"][\"landuse\"] == \"basin\" \\\n",
    "            or allFeatures[\"properties\"][\"landuse\"] == \"forest\" or allFeatures[\"properties\"][\"landuse\"] == \"greenfield\" \\\n",
    "            or allFeatures[\"properties\"][\"landuse\"] == \"meadow\" or allFeatures[\"properties\"][\"landuse\"] == \"orchard\" \\\n",
    "            or allFeatures[\"properties\"][\"landuse\"] == \"plant_nursery\" or allFeatures[\"properties\"][\"landuse\"] == \"recreation_ground\"\\\n",
    "            or allFeatures[\"properties\"][\"landuse\"] == \"village_green\" or allFeatures[\"properties\"][\"landuse\"] == \"wasteland\"\\\n",
    "            or allFeatures[\"properties\"][\"landuse\"] == \"farmland\" or allFeatures[\"properties\"][\"landuse\"] == \"farmyard\":\n",
    "                landinfo = allFeatures['properties']\n",
    "                landinfo[\"landuse\"] = 'outland'\n",
    "                locarr = np.array(allFeatures['geometry']['coordinates'], dtype=\"object\")\n",
    "                if locarr.ndim > 2:\n",
    "                    locarr = locarr.reshape(-1, locarr.shape[-1])  # 3-dim -> 2-dim        \n",
    "                if locarr.ndim == 1:\n",
    "                    locarr = np.array([locarr,locarr])        \n",
    "                if locarr.shape[0] > 2:\n",
    "                    landinfo['location'] = locarr\n",
    "                    osmLands.append(landinfo)\n",
    "            \n",
    "            ## BUILDING\n",
    "            elif allFeatures[\"properties\"][\"landuse\"] == \"commercial\" or allFeatures[\"properties\"][\"landuse\"] == \"retail\":\n",
    "                landinfo = allFeatures['properties']\n",
    "                landinfo[\"landuse\"] = 'building'\n",
    "                locarr = np.array(allFeatures['geometry']['coordinates'], dtype=\"object\")\n",
    "                if locarr.ndim > 2:\n",
    "                    locarr = locarr.reshape(-1, locarr.shape[-1])  # 3-dim -> 2-dim        \n",
    "                if locarr.ndim == 1:\n",
    "                    locarr = np.array([locarr,locarr])        \n",
    "                if locarr.shape[0] > 2:\n",
    "                    landinfo['location'] = locarr\n",
    "                    osmLands.append(landinfo)\n",
    "   \n",
    "            ## RESIDENTIAL        \n",
    "            elif allFeatures[\"properties\"][\"landuse\"] == \"residential\":\n",
    "                landinfo = allFeatures['properties']\n",
    "                locarr = np.array(allFeatures['geometry']['coordinates'], dtype=\"object\")\n",
    "                if locarr.ndim > 2:\n",
    "                    locarr = locarr.reshape(-1, locarr.shape[-1])  # 3-dim -> 2-dim        \n",
    "                if locarr.ndim == 1:\n",
    "                    locarr = np.array([locarr,locarr])        \n",
    "                if locarr.shape[0] > 2:\n",
    "                    landinfo['location'] = locarr\n",
    "                    osmLands.append(landinfo) \n",
    "        \n",
    "        if \"leisure\" in allFeatures['properties']:\n",
    "            ## OUTLAND(PARK)\n",
    "            if allFeatures[\"properties\"][\"leisure\"] == \"park\" or allFeatures[\"properties\"][\"leisure\"] == \"garden\"\\\n",
    "            or allFeatures[\"properties\"][\"leisure\"] == \"pitch\" or allFeatures[\"properties\"][\"leisure\"] == \"playground\"\\\n",
    "            or allFeatures[\"properties\"][\"leisure\"] == \"recreation_ground\":\n",
    "                landinfo = allFeatures['properties']\n",
    "                landinfo[\"landuse\"] = 'outland'\n",
    "                locarr = np.array(allFeatures['geometry']['coordinates'], dtype=\"object\")\n",
    "                if locarr.ndim > 2:\n",
    "                    locarr = locarr.reshape(-1, locarr.shape[-1])  # 3-dim -> 2-dim        \n",
    "                if locarr.ndim == 1:\n",
    "                    locarr = np.array([locarr,locarr])        \n",
    "                if locarr.shape[0] > 2:\n",
    "                    landinfo['location'] = locarr\n",
    "                    osmLands.append(landinfo)\n",
    "                \n",
    "        if \"building\" in allFeatures[\"properties\"]:\n",
    "            ## RESIDENTIAL\n",
    "            if allFeatures[\"properties\"][\"building\"] == \"house\" or allFeatures[\"properties\"][\"building\"] == \"apartments\" \\\n",
    "            or allFeatures[\"properties\"][\"building\"] == \"residential\" or allFeatures[\"properties\"][\"building\"] == \"detached\"\\\n",
    "            or allFeatures[\"properties\"][\"building\"] == \"hotel\":\n",
    "                landinfo = allFeatures['properties']\n",
    "                landinfo[\"landuse\"] = 'residential'\n",
    "                locarr = np.array(allFeatures['geometry']['coordinates'], dtype=\"object\")\n",
    "                if locarr.ndim > 2:\n",
    "                    locarr = locarr.reshape(-1, locarr.shape[-1])  # 3-dim -> 2-dim        \n",
    "                if locarr.ndim == 1:\n",
    "                    locarr = np.array([locarr,locarr])        \n",
    "                if locarr.shape[0] > 2:\n",
    "                    landinfo['location'] = locarr\n",
    "                    osmLands.append(landinfo)\n",
    "            \n",
    "            ## BUILDING\n",
    "            elif allFeatures[\"properties\"][\"building\"] == \"yes\" or allFeatures[\"properties\"][\"building\"] == \"university\" \\\n",
    "            or allFeatures[\"properties\"][\"building\"] == \"church\" or allFeatures[\"properties\"][\"building\"] == \"office\" \\\n",
    "            or allFeatures[\"properties\"][\"building\"] == \"museum\" or allFeatures[\"properties\"][\"building\"] == \"school\"\\\n",
    "            or allFeatures[\"properties\"][\"building\"] == \"commercial\" or allFeatures[\"properties\"][\"building\"] == \"retail\":\n",
    "                landinfo = allFeatures['properties']\n",
    "                landinfo[\"landuse\"] = 'building'\n",
    "                locarr = np.array(allFeatures['geometry']['coordinates'], dtype=\"object\")\n",
    "                if locarr.ndim > 2:\n",
    "                    locarr = locarr.reshape(-1, locarr.shape[-1])  # 3-dim -> 2-dim        \n",
    "                if locarr.ndim == 1:\n",
    "                    locarr = np.array([locarr,locarr])        \n",
    "                if locarr.shape[0] > 2:\n",
    "                    landinfo['location'] = locarr\n",
    "                    osmLands.append(landinfo)\n",
    "                \n",
    "osmLands = pd.DataFrame.from_dict(osmLands)\n",
    "osmLands = osmLands.set_index('id')"
   ]
  },
  {
   "cell_type": "code",
   "execution_count": 42,
   "metadata": {},
   "outputs": [],
   "source": [
    "# path = './data/geojson/unseen_central_london.geojson'\n",
    "# Edinburgh\n",
    "# only split into two classes: building (building + residential) & others\n",
    "\n",
    "osmLands = []\n",
    "for i in range(1,2):\n",
    "    path = './data/geojson/trainingmap.geojson'\n",
    "    with open(path, encoding=\"utf-8\") as f:\n",
    "        osmlines = geojson.load(f)\n",
    "    for allFeatures in osmlines.features:\n",
    "        if 'landuse' in allFeatures['properties']:\n",
    "            ## OUTLAND\n",
    "            if allFeatures[\"properties\"][\"landuse\"] == \"grass\" or allFeatures[\"properties\"][\"landuse\"] == \"basin\" \\\n",
    "            or allFeatures[\"properties\"][\"landuse\"] == \"forest\" or allFeatures[\"properties\"][\"landuse\"] == \"greenfield\" \\\n",
    "            or allFeatures[\"properties\"][\"landuse\"] == \"meadow\" or allFeatures[\"properties\"][\"landuse\"] == \"orchard\" \\\n",
    "            or allFeatures[\"properties\"][\"landuse\"] == \"plant_nursery\" or allFeatures[\"properties\"][\"landuse\"] == \"recreation_ground\"\\\n",
    "            or allFeatures[\"properties\"][\"landuse\"] == \"village_green\" or allFeatures[\"properties\"][\"landuse\"] == \"wasteland\"\\\n",
    "            or allFeatures[\"properties\"][\"landuse\"] == \"farmland\" or allFeatures[\"properties\"][\"landuse\"] == \"farmyard\":\n",
    "                landinfo = allFeatures['properties']\n",
    "                landinfo[\"landuse\"] = 'others'\n",
    "                locarr = np.array(allFeatures['geometry']['coordinates'], dtype=\"object\")\n",
    "                if locarr.ndim > 2:\n",
    "                    locarr = locarr.reshape(-1, locarr.shape[-1])  # 3-dim -> 2-dim        \n",
    "                if locarr.ndim == 1:\n",
    "                    locarr = np.array([locarr,locarr])        \n",
    "                if locarr.shape[0] > 2:\n",
    "                    landinfo['location'] = locarr\n",
    "                    osmLands.append(landinfo)\n",
    "            \n",
    "            ## BUILDING\n",
    "            elif allFeatures[\"properties\"][\"landuse\"] == \"commercial\" or allFeatures[\"properties\"][\"landuse\"] == \"retail\":\n",
    "                landinfo = allFeatures['properties']\n",
    "                landinfo[\"landuse\"] = 'building'\n",
    "                locarr = np.array(allFeatures['geometry']['coordinates'], dtype=\"object\")\n",
    "                if locarr.ndim > 2:\n",
    "                    locarr = locarr.reshape(-1, locarr.shape[-1])  # 3-dim -> 2-dim        \n",
    "                if locarr.ndim == 1:\n",
    "                    locarr = np.array([locarr,locarr])        \n",
    "                if locarr.shape[0] > 2:\n",
    "                    landinfo['location'] = locarr\n",
    "                    osmLands.append(landinfo)\n",
    "   \n",
    "            ## RESIDENTIAL        \n",
    "            elif allFeatures[\"properties\"][\"landuse\"] == \"residential\":\n",
    "                landinfo = allFeatures['properties']\n",
    "                landinfo[\"landuse\"] = 'building'\n",
    "                locarr = np.array(allFeatures['geometry']['coordinates'], dtype=\"object\")\n",
    "                if locarr.ndim > 2:\n",
    "                    locarr = locarr.reshape(-1, locarr.shape[-1])  # 3-dim -> 2-dim        \n",
    "                if locarr.ndim == 1:\n",
    "                    locarr = np.array([locarr,locarr])        \n",
    "                if locarr.shape[0] > 2:\n",
    "                    landinfo['location'] = locarr\n",
    "                    osmLands.append(landinfo) \n",
    "        \n",
    "        if \"leisure\" in allFeatures['properties']:\n",
    "            ## OUTLAND(PARK)\n",
    "            if allFeatures[\"properties\"][\"leisure\"] == \"park\" or allFeatures[\"properties\"][\"leisure\"] == \"garden\"\\\n",
    "            or allFeatures[\"properties\"][\"leisure\"] == \"pitch\" or allFeatures[\"properties\"][\"leisure\"] == \"playground\"\\\n",
    "            or allFeatures[\"properties\"][\"leisure\"] == \"recreation_ground\":\n",
    "                landinfo = allFeatures['properties']\n",
    "                landinfo[\"landuse\"] = 'others'\n",
    "                locarr = np.array(allFeatures['geometry']['coordinates'], dtype=\"object\")\n",
    "                if locarr.ndim > 2:\n",
    "                    locarr = locarr.reshape(-1, locarr.shape[-1])  # 3-dim -> 2-dim        \n",
    "                if locarr.ndim == 1:\n",
    "                    locarr = np.array([locarr,locarr])        \n",
    "                if locarr.shape[0] > 2:\n",
    "                    landinfo['location'] = locarr\n",
    "                    osmLands.append(landinfo)\n",
    "                \n",
    "        if \"building\" in allFeatures[\"properties\"]:\n",
    "            ## RESIDENTIAL\n",
    "            if allFeatures[\"properties\"][\"building\"] == \"house\" or allFeatures[\"properties\"][\"building\"] == \"apartments\" \\\n",
    "            or allFeatures[\"properties\"][\"building\"] == \"residential\" or allFeatures[\"properties\"][\"building\"] == \"detached\"\\\n",
    "            or allFeatures[\"properties\"][\"building\"] == \"hotel\":\n",
    "                landinfo = allFeatures['properties']\n",
    "                landinfo[\"landuse\"] = 'building'\n",
    "                locarr = np.array(allFeatures['geometry']['coordinates'], dtype=\"object\")\n",
    "                if locarr.ndim > 2:\n",
    "                    locarr = locarr.reshape(-1, locarr.shape[-1])  # 3-dim -> 2-dim        \n",
    "                if locarr.ndim == 1:\n",
    "                    locarr = np.array([locarr,locarr])        \n",
    "                if locarr.shape[0] > 2:\n",
    "                    landinfo['location'] = locarr\n",
    "                    osmLands.append(landinfo)\n",
    "            \n",
    "            ## BUILDING\n",
    "            elif allFeatures[\"properties\"][\"building\"] == \"yes\" or allFeatures[\"properties\"][\"building\"] == \"university\" \\\n",
    "            or allFeatures[\"properties\"][\"building\"] == \"church\" or allFeatures[\"properties\"][\"building\"] == \"office\" \\\n",
    "            or allFeatures[\"properties\"][\"building\"] == \"museum\" or allFeatures[\"properties\"][\"building\"] == \"school\"\\\n",
    "            or allFeatures[\"properties\"][\"building\"] == \"commercial\" or allFeatures[\"properties\"][\"building\"] == \"retail\":\n",
    "                landinfo = allFeatures['properties']\n",
    "                landinfo[\"landuse\"] = 'building'\n",
    "                locarr = np.array(allFeatures['geometry']['coordinates'], dtype=\"object\")\n",
    "                if locarr.ndim > 2:\n",
    "                    locarr = locarr.reshape(-1, locarr.shape[-1])  # 3-dim -> 2-dim        \n",
    "                if locarr.ndim == 1:\n",
    "                    locarr = np.array([locarr,locarr])        \n",
    "                if locarr.shape[0] > 2:\n",
    "                    landinfo['location'] = locarr\n",
    "                    osmLands.append(landinfo)\n",
    "                \n",
    "osmLands = pd.DataFrame.from_dict(osmLands)\n",
    "osmLands = osmLands.set_index('id')"
   ]
  },
  {
   "cell_type": "code",
   "execution_count": 24,
   "metadata": {},
   "outputs": [],
   "source": [
    "# path = './data/geojson/unseen_central_london.geojson'\n",
    "# London / Delhi\n",
    "\n",
    "osmLands = []\n",
    "for i in range(1,6):\n",
    "    path = './data/geojson/toby_new/map{}.geojson'.format(i) \n",
    "    with open(path, encoding=\"utf-8\") as f:\n",
    "        osmlines = geojson.load(f)\n",
    "    for allFeatures in osmlines.features:\n",
    "        if 'landuse' in allFeatures['properties']:\n",
    "            ## OUTLAND\n",
    "            if allFeatures[\"properties\"][\"landuse\"] == \"grass\" or allFeatures[\"properties\"][\"landuse\"] == \"basin\" \\\n",
    "            or allFeatures[\"properties\"][\"landuse\"] == \"forest\" or allFeatures[\"properties\"][\"landuse\"] == \"greenfield\" \\\n",
    "            or allFeatures[\"properties\"][\"landuse\"] == \"meadow\" or allFeatures[\"properties\"][\"landuse\"] == \"orchard\" \\\n",
    "            or allFeatures[\"properties\"][\"landuse\"] == \"plant_nursery\" or allFeatures[\"properties\"][\"landuse\"] == \"recreation_ground\"\\\n",
    "            or allFeatures[\"properties\"][\"landuse\"] == \"village_green\" or allFeatures[\"properties\"][\"landuse\"] == \"wasteland\"\\\n",
    "            or allFeatures[\"properties\"][\"landuse\"] == \"farmland\" or allFeatures[\"properties\"][\"landuse\"] == \"farmyard\":\n",
    "                landinfo = allFeatures['properties']\n",
    "                landinfo[\"landuse\"] = 'outland'\n",
    "                locarr = np.array(allFeatures['geometry']['coordinates'], dtype=\"object\")\n",
    "                if locarr.ndim > 2:\n",
    "                    locarr = locarr.reshape(-1, locarr.shape[-1])  # 3-dim -> 2-dim        \n",
    "                if locarr.ndim == 1:\n",
    "                    locarr = np.array([locarr,locarr])        \n",
    "                if locarr.shape[0] > 2:\n",
    "                    landinfo['location'] = locarr\n",
    "                    osmLands.append(landinfo)\n",
    "            \n",
    "            ## BUILDING\n",
    "            elif allFeatures[\"properties\"][\"landuse\"] == \"commercial\" or allFeatures[\"properties\"][\"landuse\"] == \"retail\":\n",
    "                landinfo = allFeatures['properties']\n",
    "                landinfo[\"landuse\"] = 'building'\n",
    "                locarr = np.array(allFeatures['geometry']['coordinates'], dtype=\"object\")\n",
    "                if locarr.ndim > 2:\n",
    "                    locarr = locarr.reshape(-1, locarr.shape[-1])  # 3-dim -> 2-dim        \n",
    "                if locarr.ndim == 1:\n",
    "                    locarr = np.array([locarr,locarr])        \n",
    "                if locarr.shape[0] > 2:\n",
    "                    landinfo['location'] = locarr\n",
    "                    osmLands.append(landinfo)\n",
    "   \n",
    "            ## RESIDENTIAL        \n",
    "            elif allFeatures[\"properties\"][\"landuse\"] == \"residential\":\n",
    "                landinfo = allFeatures['properties']\n",
    "                locarr = np.array(allFeatures['geometry']['coordinates'], dtype=\"object\")\n",
    "                if locarr.ndim > 2:\n",
    "                    locarr = locarr.reshape(-1, locarr.shape[-1])  # 3-dim -> 2-dim        \n",
    "                if locarr.ndim == 1:\n",
    "                    locarr = np.array([locarr,locarr])        \n",
    "                if locarr.shape[0] > 2:\n",
    "                    landinfo['location'] = locarr\n",
    "                    osmLands.append(landinfo) \n",
    "        \n",
    "        if \"leisure\" in allFeatures['properties']:\n",
    "            ## OUTLAND(PARK)\n",
    "            if allFeatures[\"properties\"][\"leisure\"] == \"park\" or allFeatures[\"properties\"][\"leisure\"] == \"garden\"\\\n",
    "            or allFeatures[\"properties\"][\"leisure\"] == \"pitch\" or allFeatures[\"properties\"][\"leisure\"] == \"playground\"\\\n",
    "            or allFeatures[\"properties\"][\"leisure\"] == \"recreation_ground\":\n",
    "                landinfo = allFeatures['properties']\n",
    "                landinfo[\"landuse\"] = 'outland'\n",
    "                locarr = np.array(allFeatures['geometry']['coordinates'], dtype=\"object\")\n",
    "                if locarr.ndim > 2:\n",
    "                    locarr = locarr.reshape(-1, locarr.shape[-1])  # 3-dim -> 2-dim        \n",
    "                if locarr.ndim == 1:\n",
    "                    locarr = np.array([locarr,locarr])        \n",
    "                if locarr.shape[0] > 2:\n",
    "                    landinfo['location'] = locarr\n",
    "                    osmLands.append(landinfo)\n",
    "                \n",
    "        if \"building\" in allFeatures[\"properties\"]:\n",
    "            ## RESIDENTIAL\n",
    "            if allFeatures[\"properties\"][\"building\"] == \"house\" or allFeatures[\"properties\"][\"building\"] == \"apartments\" \\\n",
    "            or allFeatures[\"properties\"][\"building\"] == \"residential\" or allFeatures[\"properties\"][\"building\"] == \"detached\"\\\n",
    "            or allFeatures[\"properties\"][\"building\"] == \"hotel\":\n",
    "                landinfo = allFeatures['properties']\n",
    "                landinfo[\"landuse\"] = 'residential'\n",
    "                locarr = np.array(allFeatures['geometry']['coordinates'], dtype=\"object\")\n",
    "                if locarr.ndim > 2:\n",
    "                    locarr = locarr.reshape(-1, locarr.shape[-1])  # 3-dim -> 2-dim        \n",
    "                if locarr.ndim == 1:\n",
    "                    locarr = np.array([locarr,locarr])        \n",
    "                if locarr.shape[0] > 2:\n",
    "                    landinfo['location'] = locarr\n",
    "                    osmLands.append(landinfo)\n",
    "            \n",
    "            ## BUILDING\n",
    "            elif allFeatures[\"properties\"][\"building\"] == \"yes\" or allFeatures[\"properties\"][\"building\"] == \"university\" \\\n",
    "            or allFeatures[\"properties\"][\"building\"] == \"church\" or allFeatures[\"properties\"][\"building\"] == \"office\" \\\n",
    "            or allFeatures[\"properties\"][\"building\"] == \"museum\" or allFeatures[\"properties\"][\"building\"] == \"school\"\\\n",
    "            or allFeatures[\"properties\"][\"building\"] == \"commercial\" or allFeatures[\"properties\"][\"building\"] == \"retail\":\n",
    "                landinfo = allFeatures['properties']\n",
    "                landinfo[\"landuse\"] = 'building'\n",
    "                locarr = np.array(allFeatures['geometry']['coordinates'], dtype=\"object\")\n",
    "                if locarr.ndim > 2:\n",
    "                    locarr = locarr.reshape(-1, locarr.shape[-1])  # 3-dim -> 2-dim        \n",
    "                if locarr.ndim == 1:\n",
    "                    locarr = np.array([locarr,locarr])        \n",
    "                if locarr.shape[0] > 2:\n",
    "                    landinfo['location'] = locarr\n",
    "                    osmLands.append(landinfo)\n",
    "                \n",
    "osmLands = pd.DataFrame.from_dict(osmLands)\n",
    "osmLands = osmLands.set_index('osm_id')"
   ]
  },
  {
   "cell_type": "code",
   "execution_count": 80,
   "metadata": {},
   "outputs": [],
   "source": [
    "# path = './data/geojson/unseen_central_london.geojson'\n",
    "# London / Delhi\n",
    "# only split into two classes: building (building + residential) & others\n",
    "\n",
    "osmLands = []\n",
    "for i in range(1,6):\n",
    "    path = './data/geojson/map{}.geojson'.format(i) \n",
    "    with open(path, encoding=\"utf-8\") as f:\n",
    "        osmlines = geojson.load(f)\n",
    "    for allFeatures in osmlines.features:\n",
    "        if 'landuse' in allFeatures['properties']:\n",
    "            ## OUTLAND\n",
    "            if allFeatures[\"properties\"][\"landuse\"] == \"grass\" or allFeatures[\"properties\"][\"landuse\"] == \"basin\" \\\n",
    "            or allFeatures[\"properties\"][\"landuse\"] == \"forest\" or allFeatures[\"properties\"][\"landuse\"] == \"greenfield\" \\\n",
    "            or allFeatures[\"properties\"][\"landuse\"] == \"meadow\" or allFeatures[\"properties\"][\"landuse\"] == \"orchard\" \\\n",
    "            or allFeatures[\"properties\"][\"landuse\"] == \"plant_nursery\" or allFeatures[\"properties\"][\"landuse\"] == \"recreation_ground\"\\\n",
    "            or allFeatures[\"properties\"][\"landuse\"] == \"village_green\" or allFeatures[\"properties\"][\"landuse\"] == \"wasteland\"\\\n",
    "            or allFeatures[\"properties\"][\"landuse\"] == \"farmland\" or allFeatures[\"properties\"][\"landuse\"] == \"farmyard\":\n",
    "                landinfo = allFeatures['properties']\n",
    "                landinfo[\"landuse\"] = 'others'\n",
    "                locarr = np.array(allFeatures['geometry']['coordinates'], dtype=\"object\")\n",
    "                if locarr.ndim > 2:\n",
    "                    locarr = locarr.reshape(-1, locarr.shape[-1])  # 3-dim -> 2-dim        \n",
    "                if locarr.ndim == 1:\n",
    "                    locarr = np.array([locarr,locarr])        \n",
    "                if locarr.shape[0] > 2:\n",
    "                    landinfo['location'] = locarr\n",
    "                    osmLands.append(landinfo)\n",
    "            \n",
    "            ## BUILDING\n",
    "            elif allFeatures[\"properties\"][\"landuse\"] == \"commercial\" or allFeatures[\"properties\"][\"landuse\"] == \"retail\":\n",
    "                landinfo = allFeatures['properties']\n",
    "                landinfo[\"landuse\"] = 'building'\n",
    "                locarr = np.array(allFeatures['geometry']['coordinates'], dtype=\"object\")\n",
    "                if locarr.ndim > 2:\n",
    "                    locarr = locarr.reshape(-1, locarr.shape[-1])  # 3-dim -> 2-dim        \n",
    "                if locarr.ndim == 1:\n",
    "                    locarr = np.array([locarr,locarr])        \n",
    "                if locarr.shape[0] > 2:\n",
    "                    landinfo['location'] = locarr\n",
    "                    osmLands.append(landinfo)\n",
    "   \n",
    "            ## RESIDENTIAL        \n",
    "            elif allFeatures[\"properties\"][\"landuse\"] == \"residential\":\n",
    "                landinfo = allFeatures['properties']\n",
    "                landinfo[\"landuse\"] = 'building'\n",
    "                locarr = np.array(allFeatures['geometry']['coordinates'], dtype=\"object\")\n",
    "                if locarr.ndim > 2:\n",
    "                    locarr = locarr.reshape(-1, locarr.shape[-1])  # 3-dim -> 2-dim        \n",
    "                if locarr.ndim == 1:\n",
    "                    locarr = np.array([locarr,locarr])        \n",
    "                if locarr.shape[0] > 2:\n",
    "                    landinfo['location'] = locarr\n",
    "                    osmLands.append(landinfo) \n",
    "        \n",
    "        if \"leisure\" in allFeatures['properties']:\n",
    "            ## OUTLAND(PARK)\n",
    "            if allFeatures[\"properties\"][\"leisure\"] == \"park\" or allFeatures[\"properties\"][\"leisure\"] == \"garden\"\\\n",
    "            or allFeatures[\"properties\"][\"leisure\"] == \"pitch\" or allFeatures[\"properties\"][\"leisure\"] == \"playground\"\\\n",
    "            or allFeatures[\"properties\"][\"leisure\"] == \"recreation_ground\":\n",
    "                landinfo = allFeatures['properties']\n",
    "                landinfo[\"landuse\"] = 'others'\n",
    "                locarr = np.array(allFeatures['geometry']['coordinates'], dtype=\"object\")\n",
    "                if locarr.ndim > 2:\n",
    "                    locarr = locarr.reshape(-1, locarr.shape[-1])  # 3-dim -> 2-dim        \n",
    "                if locarr.ndim == 1:\n",
    "                    locarr = np.array([locarr,locarr])        \n",
    "                if locarr.shape[0] > 2:\n",
    "                    landinfo['location'] = locarr\n",
    "                    osmLands.append(landinfo)\n",
    "                \n",
    "        if \"building\" in allFeatures[\"properties\"]:\n",
    "            ## RESIDENTIAL\n",
    "            if allFeatures[\"properties\"][\"building\"] == \"house\" or allFeatures[\"properties\"][\"building\"] == \"apartments\" \\\n",
    "            or allFeatures[\"properties\"][\"building\"] == \"residential\" or allFeatures[\"properties\"][\"building\"] == \"detached\"\\\n",
    "            or allFeatures[\"properties\"][\"building\"] == \"hotel\":\n",
    "                landinfo = allFeatures['properties']\n",
    "                landinfo[\"landuse\"] = 'building'\n",
    "                locarr = np.array(allFeatures['geometry']['coordinates'], dtype=\"object\")\n",
    "                if locarr.ndim > 2:\n",
    "                    locarr = locarr.reshape(-1, locarr.shape[-1])  # 3-dim -> 2-dim        \n",
    "                if locarr.ndim == 1:\n",
    "                    locarr = np.array([locarr,locarr])        \n",
    "                if locarr.shape[0] > 2:\n",
    "                    landinfo['location'] = locarr\n",
    "                    osmLands.append(landinfo)\n",
    "            \n",
    "            ## BUILDING\n",
    "            elif allFeatures[\"properties\"][\"building\"] == \"yes\" or allFeatures[\"properties\"][\"building\"] == \"university\" \\\n",
    "            or allFeatures[\"properties\"][\"building\"] == \"church\" or allFeatures[\"properties\"][\"building\"] == \"office\" \\\n",
    "            or allFeatures[\"properties\"][\"building\"] == \"museum\" or allFeatures[\"properties\"][\"building\"] == \"school\"\\\n",
    "            or allFeatures[\"properties\"][\"building\"] == \"commercial\" or allFeatures[\"properties\"][\"building\"] == \"retail\":\n",
    "                landinfo = allFeatures['properties']\n",
    "                landinfo[\"landuse\"] = 'building'\n",
    "                locarr = np.array(allFeatures['geometry']['coordinates'], dtype=\"object\")\n",
    "                if locarr.ndim > 2:\n",
    "                    locarr = locarr.reshape(-1, locarr.shape[-1])  # 3-dim -> 2-dim        \n",
    "                if locarr.ndim == 1:\n",
    "                    locarr = np.array([locarr,locarr])        \n",
    "                if locarr.shape[0] > 2:\n",
    "                    landinfo['location'] = locarr\n",
    "                    osmLands.append(landinfo)\n",
    "                \n",
    "osmLands = pd.DataFrame.from_dict(osmLands)\n",
    "osmLands = osmLands.set_index('osm_id')"
   ]
  },
  {
   "cell_type": "code",
   "execution_count": 51,
   "metadata": {},
   "outputs": [
    {
     "data": {
      "text/html": [
       "<div>\n",
       "<style scoped>\n",
       "    .dataframe tbody tr th:only-of-type {\n",
       "        vertical-align: middle;\n",
       "    }\n",
       "\n",
       "    .dataframe tbody tr th {\n",
       "        vertical-align: top;\n",
       "    }\n",
       "\n",
       "    .dataframe thead th {\n",
       "        text-align: right;\n",
       "    }\n",
       "</style>\n",
       "<table border=\"1\" class=\"dataframe\">\n",
       "  <thead>\n",
       "    <tr style=\"text-align: right;\">\n",
       "      <th></th>\n",
       "      <th>name</th>\n",
       "      <th>landuse</th>\n",
       "      <th>location</th>\n",
       "      <th>locationPolygon</th>\n",
       "    </tr>\n",
       "    <tr>\n",
       "      <th>osm_id</th>\n",
       "      <th></th>\n",
       "      <th></th>\n",
       "      <th></th>\n",
       "      <th></th>\n",
       "    </tr>\n",
       "  </thead>\n",
       "  <tbody>\n",
       "    <tr>\n",
       "      <th>1566802</th>\n",
       "      <td>Beaufort Mansions</td>\n",
       "      <td>building</td>\n",
       "      <td>[[-0.175123, 51.483269], [-0.175059, 51.483295...</td>\n",
       "      <td>POLYGON ((-0.175123 51.483269, -0.175059 51.48...</td>\n",
       "    </tr>\n",
       "    <tr>\n",
       "      <th>NaN</th>\n",
       "      <td>NaN</td>\n",
       "      <td>outland</td>\n",
       "      <td>[[-0.090421, 51.66395], [-0.09184, 51.664016],...</td>\n",
       "      <td>POLYGON ((-0.090421 51.66395, -0.09184 51.6640...</td>\n",
       "    </tr>\n",
       "    <tr>\n",
       "      <th>NaN</th>\n",
       "      <td>NaN</td>\n",
       "      <td>outland</td>\n",
       "      <td>[[-0.086632, 51.662146], [-0.086531, 51.662931...</td>\n",
       "      <td>POLYGON ((-0.086632 51.662146, -0.086531 51.66...</td>\n",
       "    </tr>\n",
       "    <tr>\n",
       "      <th>NaN</th>\n",
       "      <td>NaN</td>\n",
       "      <td>outland</td>\n",
       "      <td>[[-0.082658, 51.661062], [-0.082272, 51.661765...</td>\n",
       "      <td>POLYGON ((-0.082658 51.661062, -0.082272 51.66...</td>\n",
       "    </tr>\n",
       "    <tr>\n",
       "      <th>NaN</th>\n",
       "      <td>Bush Hill Park</td>\n",
       "      <td>outland</td>\n",
       "      <td>[[-0.06909, 51.648324], [-0.069091, 51.64887],...</td>\n",
       "      <td>POLYGON ((-0.06909 51.648324, -0.069091 51.648...</td>\n",
       "    </tr>\n",
       "  </tbody>\n",
       "</table>\n",
       "</div>"
      ],
      "text/plain": [
       "                      name   landuse  \\\n",
       "osm_id                                 \n",
       "1566802  Beaufort Mansions  building   \n",
       "NaN                    NaN   outland   \n",
       "NaN                    NaN   outland   \n",
       "NaN                    NaN   outland   \n",
       "NaN         Bush Hill Park   outland   \n",
       "\n",
       "                                                  location  \\\n",
       "osm_id                                                       \n",
       "1566802  [[-0.175123, 51.483269], [-0.175059, 51.483295...   \n",
       "NaN      [[-0.090421, 51.66395], [-0.09184, 51.664016],...   \n",
       "NaN      [[-0.086632, 51.662146], [-0.086531, 51.662931...   \n",
       "NaN      [[-0.082658, 51.661062], [-0.082272, 51.661765...   \n",
       "NaN      [[-0.06909, 51.648324], [-0.069091, 51.64887],...   \n",
       "\n",
       "                                           locationPolygon  \n",
       "osm_id                                                      \n",
       "1566802  POLYGON ((-0.175123 51.483269, -0.175059 51.48...  \n",
       "NaN      POLYGON ((-0.090421 51.66395, -0.09184 51.6640...  \n",
       "NaN      POLYGON ((-0.086632 51.662146, -0.086531 51.66...  \n",
       "NaN      POLYGON ((-0.082658 51.661062, -0.082272 51.66...  \n",
       "NaN      POLYGON ((-0.06909 51.648324, -0.069091 51.648...  "
      ]
     },
     "execution_count": 51,
     "metadata": {},
     "output_type": "execute_result"
    }
   ],
   "source": [
    "osmLands.head()"
   ]
  },
  {
   "cell_type": "code",
   "execution_count": 53,
   "metadata": {},
   "outputs": [
    {
     "data": {
      "text/plain": [
       "(array(['building', 'outland', 'residential'], dtype=object),\n",
       " array([200181,  20826, 176064]))"
      ]
     },
     "execution_count": 53,
     "metadata": {},
     "output_type": "execute_result"
    }
   ],
   "source": [
    "# Filtering and pre-processing \n",
    "#osmLands = osmLands[osmLands['type'] != 'multipolygon']\n",
    "#osmLands['utmLocation'] = osmLands.apply(lambda row: utm_convert(row), axis=1) # convert to utm coordinate\n",
    "osmLands['locationPolygon'] = osmLands.apply(lambda row: polygon(row), axis=1)\n",
    "# construct the line using a list of coordinate-tuples\n",
    "osmLands = osmLands.filter(['name','landuse', 'location', 'locationPolygon'])\n",
    "# only care about related attributes \n",
    "np.unique(osmLands['landuse'].astype(str), return_counts=True)"
   ]
  },
  {
   "cell_type": "code",
   "execution_count": 54,
   "metadata": {},
   "outputs": [],
   "source": [
    "osmLands.dropna(subset=['locationPolygon'], inplace=True)"
   ]
  },
  {
   "cell_type": "code",
   "execution_count": 55,
   "metadata": {},
   "outputs": [],
   "source": [
    "osm_lands = gpd.GeoDataFrame(osmLands)\n",
    "osm_lands = osm_lands.rename({'locationPolygon': 'geometry'}, axis = 1)\n",
    "osm_lands['geometry'] = gpd.GeoSeries(osm_lands['geometry'])"
   ]
  },
  {
   "cell_type": "markdown",
   "metadata": {},
   "source": [
    "## Add landuse type as a feature"
   ]
  },
  {
   "cell_type": "markdown",
   "metadata": {},
   "source": [
    "First check whether data points are in the corresponding land\n",
    "\n",
    "If the point is in a land, make the land type as a feature of this point, or add \"null\" feature (not in any land type)"
   ]
  },
  {
   "cell_type": "code",
   "execution_count": null,
   "metadata": {},
   "outputs": [],
   "source": [
    "#data_path = os.path.join(data_dir, \"new_data_set_with_station_roads_distance.csv\")\n",
    "#data_path = os.path.join(data_dir, \"london_unseen_data_with_roads_distance.csv\")\n",
    "data_path = os.path.join(data_dir, \"all_data_new_select_with_roads_distance.csv\")\n",
    "full_data = pd.read_csv(data_path, index_col=0)\n",
    "full_data.head()"
   ]
  },
  {
   "cell_type": "code",
   "execution_count": 58,
   "metadata": {},
   "outputs": [],
   "source": [
    "hits_full = bbox_full.apply(lambda row: list(osm_lands.sindex.intersection(row)), axis=1)"
   ]
  },
  {
   "cell_type": "code",
   "execution_count": 59,
   "metadata": {},
   "outputs": [
    {
     "data": {
      "text/plain": [
       "(62554, 7)"
      ]
     },
     "execution_count": 59,
     "metadata": {},
     "output_type": "execute_result"
    }
   ],
   "source": [
    "dist_df_full = pd.DataFrame({'pt_idx':np.repeat(hits_full.index, hits_full.apply(len)), 'close_land_idx': np.concatenate(hits_full.values)})\n",
    "dist_df_full = dist_df_full.join(new_full_data['geometry'].rename('point'), on='pt_idx')\n",
    "dist_df_full = dist_df_full.join(osm_lands[['geometry','location', 'landuse']].reset_index(drop=True), on='close_land_idx')\n",
    "\n",
    "dist_gdf_full = gpd.GeoDataFrame(dist_df_full)\n",
    "dist_gdf_full['if_contain'] = dist_gdf_full['geometry'].contains(gpd.GeoSeries(dist_gdf_full['point']))\n",
    "\n",
    "dist_gdf_full.shape"
   ]
  },
  {
   "cell_type": "code",
   "execution_count": null,
   "metadata": {},
   "outputs": [],
   "source": [
    "dist_gdf_full"
   ]
  },
  {
   "cell_type": "code",
   "execution_count": 61,
   "metadata": {},
   "outputs": [
    {
     "data": {
      "text/plain": [
       "(array(['building', 'others', 'outland', 'residential'], dtype=object),\n",
       " array([3168, 3911,  220,  421]))"
      ]
     },
     "execution_count": 61,
     "metadata": {},
     "output_type": "execute_result"
    }
   ],
   "source": [
    "contain = dist_gdf_full[dist_gdf_full['if_contain'] == True]\n",
    "df_contain = contain[['pt_idx', 'landuse', 'close_land_idx']].set_index('pt_idx')\n",
    "new_full_data = full_data.join(df_contain)\n",
    "new_full_data['landuse'].fillna('others', inplace=True)\n",
    "np.unique(new_full_data['landuse'].astype(str), return_counts=True)"
   ]
  },
  {
   "cell_type": "code",
   "execution_count": 62,
   "metadata": {},
   "outputs": [],
   "source": [
    "#new_full_data.loc[new_full_data['i/o'].isin([2,1]), 'i/o'] = 1 # commuting "
   ]
  },
  {
   "cell_type": "code",
   "execution_count": 63,
   "metadata": {},
   "outputs": [],
   "source": [
    "#new_full_data.to_csv(os.path.join(data_dir,'new_data_set_with_station_roads_distance_land.csv'))\n",
    "#new_full_data.to_csv(os.path.join(data_dir,'london_unseen_data_with_roads_distance_land.csv'))\n",
    "new_full_data.to_csv(os.path.join(data_dir,'all_data_new_select_with_roads_distance_land.csv'))"
   ]
  },
  {
   "cell_type": "code",
   "execution_count": 66,
   "metadata": {},
   "outputs": [
    {
     "data": {
      "text/plain": [
       "Index(['Unnamed: 0.1', 'phoneTimestamp', 'pm1', 'pm2_5', 'pm10', 'temperature',\n",
       "       'humidity', 'bin0', 'bin1', 'bin2', 'bin3', 'bin4', 'bin5', 'bin6',\n",
       "       'bin7', 'bin8', 'bin9', 'bin10', 'bin11', 'bin12', 'bin13', 'bin14',\n",
       "       'bin15', 'total', 'gpsLongitude', 'gpsLatitude', 'gpsAltitude',\n",
       "       'gpsAccuracy', 'luxLevel', 'motion', 'battery', 'subjectID', 'location',\n",
       "       'activity', 'location_type', 'activity_type', 'recording_id',\n",
       "       'timestamp', 'tubeline', 'notes', 'geometry', 'highway', 'distance',\n",
       "       'close_road_idx', 'landuse', 'close_land_idx'],\n",
       "      dtype='object')"
      ]
     },
     "execution_count": 66,
     "metadata": {},
     "output_type": "execute_result"
    }
   ],
   "source": [
    "new_full_data.columns"
   ]
  },
  {
   "cell_type": "markdown",
   "metadata": {},
   "source": [
    "## Example"
   ]
  },
  {
   "cell_type": "code",
   "execution_count": 554,
   "metadata": {},
   "outputs": [],
   "source": [
    "color_index_road = {'footway' : 'crimson', 'motorway': 'orange', 'primary_secondary': 'gray', 'residential': 'green',\n",
    "        'tertiary': 'orange', 'unclassified': 'black', 'unknown': 'darkblue' }"
   ]
  },
  {
   "cell_type": "code",
   "execution_count": null,
   "metadata": {},
   "outputs": [],
   "source": [
    "m = folium.Map(full_data[['gpsLatitude', 'gpsLongitude']].iloc[0], zoom_start=16)\n",
    "for i in range(len(osm_roads)):\n",
    "    idx = i\n",
    "    #print(osmRoads.iloc[idx])\n",
    "    coords = [[x[1], x[0]] for x in osm_roads.iloc[idx]['location']]\n",
    "    label = osm_roads.iloc[idx]['highway']\n",
    "    c = color_index_road[label]\n",
    "        \n",
    "    line = folium.PolyLine(locations = coords, color = c)\n",
    "    m.add_child(line)"
   ]
  },
  {
   "cell_type": "code",
   "execution_count": 569,
   "metadata": {},
   "outputs": [
    {
     "data": {
      "text/plain": [
       "<folium.vector_layers.PolyLine at 0x7ff70d979af0>"
      ]
     },
     "execution_count": 569,
     "metadata": {},
     "output_type": "execute_result"
    }
   ],
   "source": [
    "m = folium.Map(new_full_data[['gpsLatitude', 'gpsLongitude']].iloc[0], zoom_start=16)\n",
    "folium.Circle(location=[new_full_data['gpsLatitude'].iloc[0], new_full_data['gpsLongitude'].iloc[0]], radius=10, color='darkblue').add_to(m)\n",
    "\n",
    "for i in range(len(osm_roads)):\n",
    "    idx = i\n",
    "    #print(osmRoads.iloc[idx])\n",
    "    coords = [[x[1], x[0]] for x in osm_roads.iloc[idx]['location']]\n",
    "    label = osm_roads.iloc[idx]['highway']\n",
    "    c = 'green'\n",
    "        \n",
    "    line = folium.PolyLine(locations = coords, color = c)\n",
    "    m.add_child(line)\n",
    "    \n",
    "folium.PolyLine([[x[1],x[0]] for x in dist_gdf_full.iloc[0]['location']], color = 'crimson').add_to(m)   \n"
   ]
  },
  {
   "cell_type": "code",
   "execution_count": 588,
   "metadata": {},
   "outputs": [],
   "source": [
    "color_index = {'building' : 'crimson', 'outland': 'darkblue', 'others': 'green',\n",
    "        'residential': 'orange'}"
   ]
  },
  {
   "cell_type": "code",
   "execution_count": 589,
   "metadata": {},
   "outputs": [],
   "source": [
    "m = folium.Map(new_full_data[['gpsLatitude', 'gpsLongitude']].iloc[0], zoom_start=16)\n",
    "for i in range(len(osm_lands)):\n",
    "    idx = i\n",
    "    #print(osmRoads.iloc[idx])\n",
    "    coords = [[x[1], x[0]] for x in osm_lands.iloc[idx]['location']]\n",
    "    label = osm_lands.iloc[idx]['landuse']\n",
    "    c = color_index[label]\n",
    "        \n",
    "    line = folium.PolyLine(locations = coords, color = c)\n",
    "    m.add_child(line)"
   ]
  },
  {
   "cell_type": "code",
   "execution_count": 593,
   "metadata": {},
   "outputs": [
    {
     "data": {
      "text/plain": [
       "<folium.vector_layers.PolyLine at 0x7ff69c145c40>"
      ]
     },
     "execution_count": 593,
     "metadata": {},
     "output_type": "execute_result"
    }
   ],
   "source": [
    "m = folium.Map(new_full_data[['gpsLatitude', 'gpsLongitude']].iloc[2], zoom_start=16)\n",
    "folium.Circle(location=[new_full_data['gpsLatitude'].iloc[2], new_full_data['gpsLongitude'].iloc[2]], radius=5, color='darkblue').add_to(m)\n",
    "\n",
    "for i in range(len(osm_lands)):\n",
    "    idx = i\n",
    "    #print(osmRoads.iloc[idx])\n",
    "    coords = [[x[1], x[0]] for x in osm_lands.iloc[idx]['location']]\n",
    "    label = osm_lands.iloc[idx]['landuse']        \n",
    "    line = folium.PolyLine(locations = coords, color = \"green\")\n",
    "    m.add_child(line)\n",
    "\n",
    "folium.PolyLine([[x[1],x[0]] for x in dist_gdf_full.iloc[2]['location']], color = 'crimson').add_to(m)   \n"
   ]
  }
 ],
 "metadata": {
  "kernelspec": {
   "display_name": "Python 3",
   "language": "python",
   "name": "python3"
  },
  "language_info": {
   "codemirror_mode": {
    "name": "ipython",
    "version": 3
   },
   "file_extension": ".py",
   "mimetype": "text/x-python",
   "name": "python",
   "nbconvert_exporter": "python",
   "pygments_lexer": "ipython3",
   "version": "3.8.2"
  }
 },
 "nbformat": 4,
 "nbformat_minor": 4
}
