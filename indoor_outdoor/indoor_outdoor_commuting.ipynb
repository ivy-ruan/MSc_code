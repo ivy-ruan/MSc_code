{
 "cells": [
  {
   "cell_type": "code",
   "execution_count": null,
   "metadata": {},
   "outputs": [],
   "source": [
    "# some experiments with different ML models to classify data into three classes: indoor/outdoor/commuting"
   ]
  },
  {
   "cell_type": "code",
   "execution_count": 42,
   "metadata": {},
   "outputs": [],
   "source": [
    "import pandas as pd\n",
    "import numpy as np\n",
    "from os import path\n",
    "from sklearn.neighbors import KNeighborsClassifier\n",
    "from sklearn.cluster import KMeans\n",
    "#import helper_functions_io as hf\n",
    "from sklearn.model_selection import train_test_split, cross_val_score\n",
    "from sklearn.ensemble import RandomForestClassifier\n",
    "from sklearn.metrics import f1_score, plot_confusion_matrix\n",
    "import matplotlib.pyplot as plt\n",
    "bins =['bin0', 'bin1', 'bin2', 'bin3', 'bin4', 'bin5', 'bin6', 'bin7', 'bin8',\n",
    "       'bin9', 'bin10', 'bin11', 'bin12', 'bin13', 'bin14', 'bin15']"
   ]
  },
  {
   "cell_type": "code",
   "execution_count": 43,
   "metadata": {},
   "outputs": [
    {
     "data": {
      "text/html": [
       "<div>\n",
       "<style scoped>\n",
       "    .dataframe tbody tr th:only-of-type {\n",
       "        vertical-align: middle;\n",
       "    }\n",
       "\n",
       "    .dataframe tbody tr th {\n",
       "        vertical-align: top;\n",
       "    }\n",
       "\n",
       "    .dataframe thead th {\n",
       "        text-align: right;\n",
       "    }\n",
       "</style>\n",
       "<table border=\"1\" class=\"dataframe\">\n",
       "  <thead>\n",
       "    <tr style=\"text-align: right;\">\n",
       "      <th></th>\n",
       "      <th>Unnamed: 0</th>\n",
       "      <th>Unnamed: 0.1</th>\n",
       "      <th>timestamp</th>\n",
       "      <th>pm1</th>\n",
       "      <th>pm2_5</th>\n",
       "      <th>pm10</th>\n",
       "      <th>temperature</th>\n",
       "      <th>humidity</th>\n",
       "      <th>bin0</th>\n",
       "      <th>bin1</th>\n",
       "      <th>...</th>\n",
       "      <th>file label</th>\n",
       "      <th>i/o</th>\n",
       "      <th>gps_dist</th>\n",
       "      <th>gps_dist_std</th>\n",
       "      <th>geometry</th>\n",
       "      <th>highway</th>\n",
       "      <th>distance</th>\n",
       "      <th>close_road_idx</th>\n",
       "      <th>landuse</th>\n",
       "      <th>close_land_idx</th>\n",
       "    </tr>\n",
       "  </thead>\n",
       "  <tbody>\n",
       "    <tr>\n",
       "      <th>0</th>\n",
       "      <td>0</td>\n",
       "      <td>0</td>\n",
       "      <td>1518035457738</td>\n",
       "      <td>1.245806</td>\n",
       "      <td>1.590959</td>\n",
       "      <td>1.605238</td>\n",
       "      <td>24.700000</td>\n",
       "      <td>23.700000</td>\n",
       "      <td>0.635514</td>\n",
       "      <td>0.177570</td>\n",
       "      <td>...</td>\n",
       "      <td>6</td>\n",
       "      <td>0</td>\n",
       "      <td>0.000000</td>\n",
       "      <td>0.0</td>\n",
       "      <td>POINT (-3.1834331 55.9446894)</td>\n",
       "      <td>footway</td>\n",
       "      <td>0.000023</td>\n",
       "      <td>1493.0</td>\n",
       "      <td>building</td>\n",
       "      <td>889.0</td>\n",
       "    </tr>\n",
       "    <tr>\n",
       "      <th>1</th>\n",
       "      <td>1</td>\n",
       "      <td>1</td>\n",
       "      <td>1518038866288</td>\n",
       "      <td>0.558534</td>\n",
       "      <td>0.773462</td>\n",
       "      <td>0.949025</td>\n",
       "      <td>24.100000</td>\n",
       "      <td>23.800001</td>\n",
       "      <td>0.617021</td>\n",
       "      <td>0.127660</td>\n",
       "      <td>...</td>\n",
       "      <td>6</td>\n",
       "      <td>0</td>\n",
       "      <td>0.000018</td>\n",
       "      <td>0.0</td>\n",
       "      <td>POINT (-3.1834157 55.94468670000001)</td>\n",
       "      <td>footway</td>\n",
       "      <td>0.000018</td>\n",
       "      <td>1493.0</td>\n",
       "      <td>unknown</td>\n",
       "      <td>NaN</td>\n",
       "    </tr>\n",
       "    <tr>\n",
       "      <th>2</th>\n",
       "      <td>2</td>\n",
       "      <td>2</td>\n",
       "      <td>1518039131629</td>\n",
       "      <td>0.347164</td>\n",
       "      <td>0.445047</td>\n",
       "      <td>0.461267</td>\n",
       "      <td>24.300001</td>\n",
       "      <td>24.000000</td>\n",
       "      <td>0.718750</td>\n",
       "      <td>0.156250</td>\n",
       "      <td>...</td>\n",
       "      <td>6</td>\n",
       "      <td>0</td>\n",
       "      <td>0.000023</td>\n",
       "      <td>0.0</td>\n",
       "      <td>POINT (-3.1834382 55.94468979999999)</td>\n",
       "      <td>footway</td>\n",
       "      <td>0.000024</td>\n",
       "      <td>1493.0</td>\n",
       "      <td>building</td>\n",
       "      <td>889.0</td>\n",
       "    </tr>\n",
       "    <tr>\n",
       "      <th>3</th>\n",
       "      <td>3</td>\n",
       "      <td>3</td>\n",
       "      <td>1518041088275</td>\n",
       "      <td>0.466050</td>\n",
       "      <td>0.630702</td>\n",
       "      <td>0.819997</td>\n",
       "      <td>22.700000</td>\n",
       "      <td>25.400000</td>\n",
       "      <td>0.700000</td>\n",
       "      <td>0.125000</td>\n",
       "      <td>...</td>\n",
       "      <td>6</td>\n",
       "      <td>0</td>\n",
       "      <td>0.000041</td>\n",
       "      <td>0.0</td>\n",
       "      <td>POINT (-3.1833971 55.9446894)</td>\n",
       "      <td>footway</td>\n",
       "      <td>0.000019</td>\n",
       "      <td>1493.0</td>\n",
       "      <td>unknown</td>\n",
       "      <td>NaN</td>\n",
       "    </tr>\n",
       "    <tr>\n",
       "      <th>4</th>\n",
       "      <td>4</td>\n",
       "      <td>4</td>\n",
       "      <td>1518046406113</td>\n",
       "      <td>3.238715</td>\n",
       "      <td>5.534687</td>\n",
       "      <td>13.598838</td>\n",
       "      <td>26.000000</td>\n",
       "      <td>36.500000</td>\n",
       "      <td>0.433213</td>\n",
       "      <td>0.176895</td>\n",
       "      <td>...</td>\n",
       "      <td>6</td>\n",
       "      <td>0</td>\n",
       "      <td>0.000030</td>\n",
       "      <td>0.0</td>\n",
       "      <td>POINT (-3.1833737 55.94470870000001)</td>\n",
       "      <td>footway</td>\n",
       "      <td>0.000035</td>\n",
       "      <td>1493.0</td>\n",
       "      <td>building</td>\n",
       "      <td>889.0</td>\n",
       "    </tr>\n",
       "  </tbody>\n",
       "</table>\n",
       "<p>5 rows × 37 columns</p>\n",
       "</div>"
      ],
      "text/plain": [
       "   Unnamed: 0  Unnamed: 0.1      timestamp       pm1     pm2_5       pm10  \\\n",
       "0           0             0  1518035457738  1.245806  1.590959   1.605238   \n",
       "1           1             1  1518038866288  0.558534  0.773462   0.949025   \n",
       "2           2             2  1518039131629  0.347164  0.445047   0.461267   \n",
       "3           3             3  1518041088275  0.466050  0.630702   0.819997   \n",
       "4           4             4  1518046406113  3.238715  5.534687  13.598838   \n",
       "\n",
       "   temperature   humidity      bin0      bin1  ...  file label  i/o  gps_dist  \\\n",
       "0    24.700000  23.700000  0.635514  0.177570  ...           6    0  0.000000   \n",
       "1    24.100000  23.800001  0.617021  0.127660  ...           6    0  0.000018   \n",
       "2    24.300001  24.000000  0.718750  0.156250  ...           6    0  0.000023   \n",
       "3    22.700000  25.400000  0.700000  0.125000  ...           6    0  0.000041   \n",
       "4    26.000000  36.500000  0.433213  0.176895  ...           6    0  0.000030   \n",
       "\n",
       "   gps_dist_std                              geometry  highway  distance  \\\n",
       "0           0.0         POINT (-3.1834331 55.9446894)  footway  0.000023   \n",
       "1           0.0  POINT (-3.1834157 55.94468670000001)  footway  0.000018   \n",
       "2           0.0  POINT (-3.1834382 55.94468979999999)  footway  0.000024   \n",
       "3           0.0         POINT (-3.1833971 55.9446894)  footway  0.000019   \n",
       "4           0.0  POINT (-3.1833737 55.94470870000001)  footway  0.000035   \n",
       "\n",
       "   close_road_idx   landuse  close_land_idx  \n",
       "0          1493.0  building           889.0  \n",
       "1          1493.0   unknown             NaN  \n",
       "2          1493.0  building           889.0  \n",
       "3          1493.0   unknown             NaN  \n",
       "4          1493.0  building           889.0  \n",
       "\n",
       "[5 rows x 37 columns]"
      ]
     },
     "execution_count": 43,
     "metadata": {},
     "output_type": "execute_result"
    }
   ],
   "source": [
    "graph_path = \"./graphs\"\n",
    "data_dir = \"./data/indoor_outdoor\"\n",
    "data_path = path.join(data_dir, \"new_data_set_with_roads_distance_land.csv\")\n",
    "full_data = pd.read_csv(data_path)\n",
    "full_data.head()"
   ]
  },
  {
   "cell_type": "code",
   "execution_count": 44,
   "metadata": {},
   "outputs": [
    {
     "data": {
      "text/plain": [
       "Index(['Unnamed: 0', 'Unnamed: 0.1', 'timestamp', 'pm1', 'pm2_5', 'pm10',\n",
       "       'temperature', 'humidity', 'bin0', 'bin1', 'bin2', 'bin3', 'bin4',\n",
       "       'bin5', 'bin6', 'bin7', 'bin8', 'bin9', 'bin10', 'bin11', 'bin12',\n",
       "       'bin13', 'bin14', 'bin15', 'gpsLongitude', 'gpsLatitude', 'gpsAccuracy',\n",
       "       'file label', 'i/o', 'gps_dist', 'gps_dist_std', 'geometry', 'highway',\n",
       "       'distance', 'close_road_idx', 'landuse', 'close_land_idx'],\n",
       "      dtype='object')"
      ]
     },
     "execution_count": 44,
     "metadata": {},
     "output_type": "execute_result"
    }
   ],
   "source": [
    "full_data.columns"
   ]
  },
  {
   "cell_type": "code",
   "execution_count": 45,
   "metadata": {},
   "outputs": [],
   "source": [
    "full_data['gpsAccuracy'].fillna(0, inplace=True)\n",
    "full_data.drop(columns=['close_road_idx', 'close_land_idx'], inplace=True)"
   ]
  },
  {
   "cell_type": "code",
   "execution_count": 46,
   "metadata": {},
   "outputs": [
    {
     "data": {
      "text/plain": [
       "(array([0, 1, 2]), array([2141, 2216, 2411]))"
      ]
     },
     "execution_count": 46,
     "metadata": {},
     "output_type": "execute_result"
    }
   ],
   "source": [
    "full_data.dropna(axis=0, inplace=True)\n",
    "np.unique(full_data['i/o'], return_counts=True)"
   ]
  },
  {
   "cell_type": "code",
   "execution_count": 47,
   "metadata": {},
   "outputs": [],
   "source": [
    "#full_data = full_data[full_data['i/o']!=1]\n",
    "#full_data.loc[full_data['i/o']==2, 'i/o'] = 1\n",
    "#np.unique(full_data['i/o'], return_counts=True)"
   ]
  },
  {
   "cell_type": "code",
   "execution_count": 48,
   "metadata": {},
   "outputs": [
    {
     "data": {
      "text/html": [
       "<div>\n",
       "<style scoped>\n",
       "    .dataframe tbody tr th:only-of-type {\n",
       "        vertical-align: middle;\n",
       "    }\n",
       "\n",
       "    .dataframe tbody tr th {\n",
       "        vertical-align: top;\n",
       "    }\n",
       "\n",
       "    .dataframe thead th {\n",
       "        text-align: right;\n",
       "    }\n",
       "</style>\n",
       "<table border=\"1\" class=\"dataframe\">\n",
       "  <thead>\n",
       "    <tr style=\"text-align: right;\">\n",
       "      <th></th>\n",
       "      <th>temperature</th>\n",
       "      <th>humidity</th>\n",
       "      <th>highway_encode</th>\n",
       "      <th>distance</th>\n",
       "      <th>landuse_encode</th>\n",
       "      <th>bin0</th>\n",
       "      <th>bin1</th>\n",
       "      <th>bin2</th>\n",
       "      <th>bin3</th>\n",
       "      <th>bin4</th>\n",
       "      <th>...</th>\n",
       "      <th>bin7</th>\n",
       "      <th>bin8</th>\n",
       "      <th>bin9</th>\n",
       "      <th>bin10</th>\n",
       "      <th>bin11</th>\n",
       "      <th>bin12</th>\n",
       "      <th>bin13</th>\n",
       "      <th>bin14</th>\n",
       "      <th>bin15</th>\n",
       "      <th>gps_dist</th>\n",
       "    </tr>\n",
       "  </thead>\n",
       "  <tbody>\n",
       "    <tr>\n",
       "      <th>0</th>\n",
       "      <td>24.700000</td>\n",
       "      <td>23.700000</td>\n",
       "      <td>0</td>\n",
       "      <td>0.000023</td>\n",
       "      <td>0</td>\n",
       "      <td>0.635514</td>\n",
       "      <td>0.177570</td>\n",
       "      <td>0.140187</td>\n",
       "      <td>0.028037</td>\n",
       "      <td>0.009346</td>\n",
       "      <td>...</td>\n",
       "      <td>0.000000</td>\n",
       "      <td>0.00000</td>\n",
       "      <td>0.00000</td>\n",
       "      <td>0.00000</td>\n",
       "      <td>0.0</td>\n",
       "      <td>0.0</td>\n",
       "      <td>0.0</td>\n",
       "      <td>0.0</td>\n",
       "      <td>0.0</td>\n",
       "      <td>0.000000</td>\n",
       "    </tr>\n",
       "    <tr>\n",
       "      <th>1</th>\n",
       "      <td>24.100000</td>\n",
       "      <td>23.800001</td>\n",
       "      <td>0</td>\n",
       "      <td>0.000018</td>\n",
       "      <td>3</td>\n",
       "      <td>0.617021</td>\n",
       "      <td>0.127660</td>\n",
       "      <td>0.191489</td>\n",
       "      <td>0.042553</td>\n",
       "      <td>0.000000</td>\n",
       "      <td>...</td>\n",
       "      <td>0.021277</td>\n",
       "      <td>0.00000</td>\n",
       "      <td>0.00000</td>\n",
       "      <td>0.00000</td>\n",
       "      <td>0.0</td>\n",
       "      <td>0.0</td>\n",
       "      <td>0.0</td>\n",
       "      <td>0.0</td>\n",
       "      <td>0.0</td>\n",
       "      <td>0.000018</td>\n",
       "    </tr>\n",
       "    <tr>\n",
       "      <th>2</th>\n",
       "      <td>24.300001</td>\n",
       "      <td>24.000000</td>\n",
       "      <td>0</td>\n",
       "      <td>0.000024</td>\n",
       "      <td>0</td>\n",
       "      <td>0.718750</td>\n",
       "      <td>0.156250</td>\n",
       "      <td>0.031250</td>\n",
       "      <td>0.031250</td>\n",
       "      <td>0.000000</td>\n",
       "      <td>...</td>\n",
       "      <td>0.000000</td>\n",
       "      <td>0.00000</td>\n",
       "      <td>0.00000</td>\n",
       "      <td>0.00000</td>\n",
       "      <td>0.0</td>\n",
       "      <td>0.0</td>\n",
       "      <td>0.0</td>\n",
       "      <td>0.0</td>\n",
       "      <td>0.0</td>\n",
       "      <td>0.000023</td>\n",
       "    </tr>\n",
       "    <tr>\n",
       "      <th>3</th>\n",
       "      <td>22.700000</td>\n",
       "      <td>25.400000</td>\n",
       "      <td>0</td>\n",
       "      <td>0.000019</td>\n",
       "      <td>3</td>\n",
       "      <td>0.700000</td>\n",
       "      <td>0.125000</td>\n",
       "      <td>0.125000</td>\n",
       "      <td>0.000000</td>\n",
       "      <td>0.000000</td>\n",
       "      <td>...</td>\n",
       "      <td>0.025000</td>\n",
       "      <td>0.00000</td>\n",
       "      <td>0.00000</td>\n",
       "      <td>0.00000</td>\n",
       "      <td>0.0</td>\n",
       "      <td>0.0</td>\n",
       "      <td>0.0</td>\n",
       "      <td>0.0</td>\n",
       "      <td>0.0</td>\n",
       "      <td>0.000041</td>\n",
       "    </tr>\n",
       "    <tr>\n",
       "      <th>4</th>\n",
       "      <td>26.000000</td>\n",
       "      <td>36.500000</td>\n",
       "      <td>0</td>\n",
       "      <td>0.000035</td>\n",
       "      <td>0</td>\n",
       "      <td>0.433213</td>\n",
       "      <td>0.176895</td>\n",
       "      <td>0.173285</td>\n",
       "      <td>0.079422</td>\n",
       "      <td>0.046931</td>\n",
       "      <td>...</td>\n",
       "      <td>0.014440</td>\n",
       "      <td>0.01444</td>\n",
       "      <td>0.00361</td>\n",
       "      <td>0.00361</td>\n",
       "      <td>0.0</td>\n",
       "      <td>0.0</td>\n",
       "      <td>0.0</td>\n",
       "      <td>0.0</td>\n",
       "      <td>0.0</td>\n",
       "      <td>0.000030</td>\n",
       "    </tr>\n",
       "  </tbody>\n",
       "</table>\n",
       "<p>5 rows × 22 columns</p>\n",
       "</div>"
      ],
      "text/plain": [
       "   temperature   humidity  highway_encode  distance  landuse_encode      bin0  \\\n",
       "0    24.700000  23.700000               0  0.000023               0  0.635514   \n",
       "1    24.100000  23.800001               0  0.000018               3  0.617021   \n",
       "2    24.300001  24.000000               0  0.000024               0  0.718750   \n",
       "3    22.700000  25.400000               0  0.000019               3  0.700000   \n",
       "4    26.000000  36.500000               0  0.000035               0  0.433213   \n",
       "\n",
       "       bin1      bin2      bin3      bin4  ...      bin7     bin8     bin9  \\\n",
       "0  0.177570  0.140187  0.028037  0.009346  ...  0.000000  0.00000  0.00000   \n",
       "1  0.127660  0.191489  0.042553  0.000000  ...  0.021277  0.00000  0.00000   \n",
       "2  0.156250  0.031250  0.031250  0.000000  ...  0.000000  0.00000  0.00000   \n",
       "3  0.125000  0.125000  0.000000  0.000000  ...  0.025000  0.00000  0.00000   \n",
       "4  0.176895  0.173285  0.079422  0.046931  ...  0.014440  0.01444  0.00361   \n",
       "\n",
       "     bin10  bin11  bin12  bin13  bin14  bin15  gps_dist  \n",
       "0  0.00000    0.0    0.0    0.0    0.0    0.0  0.000000  \n",
       "1  0.00000    0.0    0.0    0.0    0.0    0.0  0.000018  \n",
       "2  0.00000    0.0    0.0    0.0    0.0    0.0  0.000023  \n",
       "3  0.00000    0.0    0.0    0.0    0.0    0.0  0.000041  \n",
       "4  0.00361    0.0    0.0    0.0    0.0    0.0  0.000030  \n",
       "\n",
       "[5 rows x 22 columns]"
      ]
     },
     "execution_count": 48,
     "metadata": {},
     "output_type": "execute_result"
    }
   ],
   "source": [
    "## Get data\n",
    "full_data['highway'] = full_data['highway'].astype('category')\n",
    "full_data['highway_encode'] = full_data['highway'].cat.codes\n",
    "full_data['landuse'] = full_data['landuse'].astype('category')\n",
    "full_data['landuse_encode'] = full_data['landuse'].cat.codes\n",
    "\n",
    "chosen_columns1 = ['temperature', 'humidity', 'bin0','bin1', 'bin2', 'bin3', 'bin4', 'bin5', 'bin6', 'bin7', 'bin8', 'bin9','bin10', 'bin11', 'bin12', 'bin13', 'bin14', 'bin15', 'gps_dist']\n",
    "chosen_columns_air = ['bin0','bin1', 'bin2', 'bin3', 'bin4', 'bin5', 'bin6', 'bin7', 'bin8', 'bin9','bin10', 'bin11', 'bin12', 'bin13', 'bin14', 'bin15', 'gps_dist']\n",
    "chosen_columns_road = ['pm1', 'pm2_5', 'pm10', 'bin0','bin1', 'bin2', 'bin3', 'bin4', 'bin5', 'bin6', 'bin7', 'bin8', 'bin9','bin10', 'bin11', 'bin12', 'bin13', 'bin14', 'bin15', 'highway_encode', 'gps_dist']\n",
    "chosen_columns_all = ['temperature', 'humidity','highway_encode', 'distance', 'landuse_encode','bin0','bin1', 'bin2', 'bin3', 'bin4', 'bin5', 'bin6', 'bin7', 'bin8', 'bin9','bin10', 'bin11', 'bin12', 'bin13', 'bin14', 'bin15', 'gps_dist']\n",
    "\n",
    "\n",
    "X = full_data[chosen_columns1] # include temperature & humidity\n",
    "X_air = full_data[chosen_columns_air]\n",
    "X_road = full_data[chosen_columns_road]\n",
    "X_all = full_data[chosen_columns_all]\n",
    "\n",
    "X = X.dropna(axis = 0)\n",
    "X_air = X_air.dropna(axis = 0)\n",
    "X_road = X_road.dropna(axis = 0)\n",
    "X_all = X_all.dropna(axis = 0)\n",
    "\n",
    "y = full_data['i/o']\n",
    "X_all.head()"
   ]
  },
  {
   "cell_type": "code",
   "execution_count": 49,
   "metadata": {},
   "outputs": [],
   "source": [
    "# Split Data\n",
    "X_train, X_test, y_train, y_test = train_test_split(X, y, test_size=0.33, random_state=0)\n",
    "X_air_train, X_air_test, y_air_train, y_air_test = train_test_split(X_air, y, test_size=0.33, random_state=0)\n",
    "X_road_train, X_road_test, y_road_train, y_road_test = train_test_split(X_road, y, test_size=0.33, random_state=0)\n",
    "X_all_train, X_all_test, y_all_train, y_all_test = train_test_split(X_all, y, test_size=0.33, random_state=0)"
   ]
  },
  {
   "cell_type": "markdown",
   "metadata": {},
   "source": [
    "# Naïve Bayes"
   ]
  },
  {
   "cell_type": "code",
   "execution_count": 50,
   "metadata": {},
   "outputs": [],
   "source": [
    "from sklearn.naive_bayes import GaussianNB"
   ]
  },
  {
   "cell_type": "code",
   "execution_count": 51,
   "metadata": {},
   "outputs": [
    {
     "name": "stdout",
     "output_type": "stream",
     "text": [
      "Score: 0.7985675917636527\n",
      "F1 Score: 0.7973444338221508\n"
     ]
    },
    {
     "data": {
      "image/png": "[encoded data removed]",
      "text/plain": [
       "<Figure size 432x288 with 2 Axes>"
      ]
     },
     "metadata": {
      "needs_background": "light"
     },
     "output_type": "display_data"
    }
   ],
   "source": [
    "clf = GaussianNB()\n",
    "#clf = KNeighborsClassifier(n_neighbors=1)\n",
    "clf.fit(X_train, y_train)\n",
    "print(\"Score: {}\".format(clf.score(X_test, y_test)))\n",
    "y_preds = clf.predict(X_test)\n",
    "print(\"F1 Score: {}\".format(f1_score(y_test, y_preds, average='weighted')))\n",
    "plot_confusion_matrix(clf, X_test, y_test, display_labels=['Indoor', 'Outdoor', 'Commuting'])\n",
    "plt.grid(None)\n",
    "plt.title('Naive Bayes Classifier')\n",
    "plt.tight_layout()\n",
    "#plt.savefig(path.join('./ioc_graphs', 'nb_classifier.jpg'))"
   ]
  },
  {
   "cell_type": "code",
   "execution_count": 23,
   "metadata": {},
   "outputs": [
    {
     "name": "stdout",
     "output_type": "stream",
     "text": [
      "Score: 0.6418979409131602\n",
      "F1 Score: 0.643413642611542\n"
     ]
    },
    {
     "data": {
      "image/png": "[encoded data removed]",
      "text/plain": [
       "<Figure size 432x288 with 2 Axes>"
      ]
     },
     "metadata": {
      "needs_background": "light"
     },
     "output_type": "display_data"
    }
   ],
   "source": [
    "clf = GaussianNB()\n",
    "clf.fit(X_air_train, y_air_train)\n",
    "print(\"Score: {}\".format(clf.score(X_air_test, y_air_test)))\n",
    "y_air_preds = clf.predict(X_air_test)\n",
    "print(\"F1 Score: {}\".format(f1_score(y_air_test, y_air_preds, average='weighted')))\n",
    "plot_confusion_matrix(clf, X_air_test, y_air_test, display_labels=['Indoor', 'Outdoor', 'Commuting'])\n",
    "plt.grid(None)\n",
    "plt.title('Naive Bayes Classifier')\n",
    "plt.tight_layout()"
   ]
  },
  {
   "cell_type": "code",
   "execution_count": 24,
   "metadata": {},
   "outputs": [
    {
     "name": "stdout",
     "output_type": "stream",
     "text": [
      "Score: 0.6517457475380484\n",
      "F1 Score: 0.6032204712890433\n"
     ]
    },
    {
     "data": {
      "image/png": "[encoded data removed]",
      "text/plain": [
       "<Figure size 432x288 with 2 Axes>"
      ]
     },
     "metadata": {
      "needs_background": "light"
     },
     "output_type": "display_data"
    }
   ],
   "source": [
    "clf = GaussianNB()\n",
    "clf.fit(X_road_train, y_road_train)\n",
    "print(\"Score: {}\".format(clf.score(X_road_test, y_road_test)))\n",
    "y_road_preds = clf.predict(X_road_test)\n",
    "print(\"F1 Score: {}\".format(f1_score(y_road_test, y_road_preds, average='weighted')))\n",
    "plot_confusion_matrix(clf, X_road_test, y_road_test, display_labels=['Indoor', 'Outdoor', 'Commuting'])\n",
    "plt.grid(None)\n",
    "plt.title('Naive Bayes Classifier')\n",
    "plt.tight_layout()\n",
    "#plt.savefig(path.join('./ioc_graphs', 'nb_classifier.jpg'))"
   ]
  },
  {
   "cell_type": "code",
   "execution_count": 25,
   "metadata": {},
   "outputs": [
    {
     "name": "stdout",
     "output_type": "stream",
     "text": [
      "Score: 0.8675022381378693\n",
      "F1 Score: 0.8660476174453466\n"
     ]
    },
    {
     "data": {
      "image/png": "[encoded data removed]",
      "text/plain": [
       "<Figure size 432x288 with 2 Axes>"
      ]
     },
     "metadata": {
      "needs_background": "light"
     },
     "output_type": "display_data"
    }
   ],
   "source": [
    "clf = GaussianNB()\n",
    "clf.fit(X_all_train, y_all_train)\n",
    "print(\"Score: {}\".format(clf.score(X_all_test, y_all_test)))\n",
    "y_all_preds = clf.predict(X_all_test)\n",
    "print(\"F1 Score: {}\".format(f1_score(y_all_test, y_all_preds, average='weighted')))\n",
    "plot_confusion_matrix(clf, X_all_test, y_all_test, display_labels=['Indoor', 'Outdoor', 'Commuting'])\n",
    "plt.grid(None)\n",
    "plt.title('Naive Bayes Classifier')\n",
    "plt.tight_layout()"
   ]
  },
  {
   "cell_type": "markdown",
   "metadata": {},
   "source": [
    "# KNN "
   ]
  },
  {
   "cell_type": "code",
   "execution_count": 54,
   "metadata": {},
   "outputs": [
    {
     "name": "stdout",
     "output_type": "stream",
     "text": [
      "Score: 0.9435989256938228\n",
      "F1 Score: 0.9433833049011271\n"
     ]
    },
    {
     "data": {
      "image/png": "[encoded data removed]",
      "text/plain": [
       "<Figure size 432x288 with 2 Axes>"
      ]
     },
     "metadata": {
      "needs_background": "light"
     },
     "output_type": "display_data"
    }
   ],
   "source": [
    "clf = KNeighborsClassifier(n_neighbors=5)\n",
    "clf.fit(X_train, y_train)\n",
    "print(\"Score: {}\".format(clf.score(X_test, y_test)))\n",
    "y_preds = clf.predict(X_test)\n",
    "print(\"F1 Score: {}\".format(f1_score(y_test, y_preds, average='weighted')))\n",
    "plot_confusion_matrix(clf, X_test, y_test, display_labels=['Indoor', 'Outdoor', 'Commuting'])\n",
    "plt.grid(None)\n",
    "plt.title('KNN Classifier')\n",
    "plt.tight_layout()"
   ]
  },
  {
   "cell_type": "code",
   "execution_count": 52,
   "metadata": {},
   "outputs": [
    {
     "name": "stdout",
     "output_type": "stream",
     "text": [
      "Score: 0.7153088630259624\n",
      "F1 Score: 0.7143518704387518\n"
     ]
    },
    {
     "data": {
      "image/png": "[encoded data removed]",
      "text/plain": [
       "<Figure size 432x288 with 2 Axes>"
      ]
     },
     "metadata": {
      "needs_background": "light"
     },
     "output_type": "display_data"
    }
   ],
   "source": [
    "knn = KNeighborsClassifier(n_neighbors=1)\n",
    "knn.fit(X_air_train, y_air_train)\n",
    "print(\"Score: {}\".format(knn.score(X_air_test, y_air_test)))\n",
    "y_air_preds = knn.predict(X_air_test)\n",
    "print(\"F1 Score: {}\".format(f1_score(y_air_test, y_air_preds, average='weighted')))\n",
    "plot_confusion_matrix(knn, X_air_test, y_air_test)\n",
    "plt.grid(None)\n",
    "plt.title('KNN Classifier')\n",
    "plt.tight_layout()\n",
    "#plt.savefig(path.join('./ioc_graphs', 'knn_classifier.jpg'))"
   ]
  },
  {
   "cell_type": "code",
   "execution_count": 27,
   "metadata": {},
   "outputs": [
    {
     "name": "stdout",
     "output_type": "stream",
     "text": [
      "Score: 0.8500447627573858\n",
      "F1 Score: 0.8501138059307082\n"
     ]
    },
    {
     "data": {
      "image/png": "[encoded data removed]",
      "text/plain": [
       "<Figure size 432x288 with 2 Axes>"
      ]
     },
     "metadata": {
      "needs_background": "light"
     },
     "output_type": "display_data"
    }
   ],
   "source": [
    "knn = KNeighborsClassifier(n_neighbors=1)\n",
    "knn.fit(X_road_train, y_road_train)\n",
    "print(\"Score: {}\".format(knn.score(X_road_test, y_road_test)))\n",
    "y_road_preds = knn.predict(X_road_test)\n",
    "print(\"F1 Score: {}\".format(f1_score(y_road_test, y_road_preds, average='weighted')))\n",
    "plot_confusion_matrix(knn, X_road_test, y_road_test)\n",
    "plt.grid(None)\n",
    "plt.title('KNN Classifier')\n",
    "plt.tight_layout()\n",
    "#plt.savefig(path.join('./ioc_graphs', 'knn_classifier.jpg'))"
   ]
  },
  {
   "cell_type": "code",
   "execution_count": 28,
   "metadata": {},
   "outputs": [
    {
     "name": "stdout",
     "output_type": "stream",
     "text": [
      "Score: 0.9749328558639212\n",
      "F1 Score: 0.9749024941674246\n"
     ]
    },
    {
     "data": {
      "image/png": "[encoded data removed]",
      "text/plain": [
       "<Figure size 432x288 with 2 Axes>"
      ]
     },
     "metadata": {
      "needs_background": "light"
     },
     "output_type": "display_data"
    }
   ],
   "source": [
    "knn = KNeighborsClassifier(n_neighbors=1)\n",
    "knn.fit(X_all_train, y_all_train)\n",
    "print(\"Score: {}\".format(knn.score(X_all_test, y_all_test)))\n",
    "y_all_preds = knn.predict(X_all_test)\n",
    "print(\"F1 Score: {}\".format(f1_score(y_all_test, y_all_preds, average='weighted')))\n",
    "plot_confusion_matrix(knn, X_all_test, y_all_test)\n",
    "plt.grid(None)\n",
    "plt.title('KNN Classifier')\n",
    "plt.tight_layout()\n",
    "#plt.savefig(path.join('./ioc_graphs', 'knn_classifier.jpg'))"
   ]
  },
  {
   "cell_type": "markdown",
   "metadata": {},
   "source": [
    "# Support Vector Machine"
   ]
  },
  {
   "cell_type": "code",
   "execution_count": 55,
   "metadata": {},
   "outputs": [],
   "source": [
    "from sklearn.svm import SVC\n",
    "from sklearn.pipeline import make_pipeline\n",
    "from sklearn.preprocessing import StandardScaler\n",
    "from sklearn.model_selection import RandomizedSearchCV\n",
    "from sklearn.model_selection import GridSearchCV"
   ]
  },
  {
   "cell_type": "code",
   "execution_count": 33,
   "metadata": {},
   "outputs": [
    {
     "name": "stdout",
     "output_type": "stream",
     "text": [
      "Score: 0.8576544315129812\n",
      "F1 Score: 0.8579085523688772\n"
     ]
    }
   ],
   "source": [
    "clf = make_pipeline(StandardScaler(), SVC(gamma='scale'))\n",
    "clf.fit(X_air_train, y_air_train)\n",
    "y_air_preds = clf.predict(X_air_test)\n",
    "print(\"Score: {}\".format(clf.score(X_air_test, y_air_test)))\n",
    "print(\"F1 Score: {}\".format(f1_score(y_air_test, y_air_preds, average='weighted')))"
   ]
  },
  {
   "cell_type": "code",
   "execution_count": 34,
   "metadata": {},
   "outputs": [
    {
     "name": "stdout",
     "output_type": "stream",
     "text": [
      "Score: 0.9131602506714414\n",
      "F1 Score: 0.9135275925757508\n"
     ]
    }
   ],
   "source": [
    "clf = make_pipeline(StandardScaler(), SVC(gamma='scale'))\n",
    "clf.fit(X_road_train, y_road_train)\n",
    "y_road_preds = clf.predict(X_road_test)\n",
    "print(\"Score: {}\".format(clf.score(X_road_test, y_road_test)))\n",
    "print(\"F1 Score: {}\".format(f1_score(y_road_test, y_road_preds, average='weighted')))"
   ]
  },
  {
   "cell_type": "code",
   "execution_count": 35,
   "metadata": {},
   "outputs": [
    {
     "name": "stdout",
     "output_type": "stream",
     "text": [
      "Score: 0.9888093106535363\n",
      "F1 Score: 0.9888179978954016\n"
     ]
    }
   ],
   "source": [
    "clf = make_pipeline(StandardScaler(), SVC(gamma='scale'))\n",
    "clf.fit(X_all_train, y_all_train)\n",
    "y_all_preds = clf.predict(X_all_test)\n",
    "print(\"Score: {}\".format(clf.score(X_all_test, y_all_test)))\n",
    "print(\"F1 Score: {}\".format(f1_score(y_all_test, y_all_preds, average='weighted')))"
   ]
  },
  {
   "cell_type": "code",
   "execution_count": 36,
   "metadata": {},
   "outputs": [
    {
     "data": {
      "text/plain": [
       "{'memory': None,\n",
       " 'steps': [('standardscaler', StandardScaler()), ('svc', SVC())],\n",
       " 'verbose': False,\n",
       " 'standardscaler': StandardScaler(),\n",
       " 'svc': SVC(),\n",
       " 'standardscaler__copy': True,\n",
       " 'standardscaler__with_mean': True,\n",
       " 'standardscaler__with_std': True,\n",
       " 'svc__C': 1.0,\n",
       " 'svc__break_ties': False,\n",
       " 'svc__cache_size': 200,\n",
       " 'svc__class_weight': None,\n",
       " 'svc__coef0': 0.0,\n",
       " 'svc__decision_function_shape': 'ovr',\n",
       " 'svc__degree': 3,\n",
       " 'svc__gamma': 'scale',\n",
       " 'svc__kernel': 'rbf',\n",
       " 'svc__max_iter': -1,\n",
       " 'svc__probability': False,\n",
       " 'svc__random_state': None,\n",
       " 'svc__shrinking': True,\n",
       " 'svc__tol': 0.001,\n",
       " 'svc__verbose': False}"
      ]
     },
     "execution_count": 36,
     "metadata": {},
     "output_type": "execute_result"
    }
   ],
   "source": [
    "clf.get_params()"
   ]
  },
  {
   "cell_type": "code",
   "execution_count": 24,
   "metadata": {},
   "outputs": [
    {
     "data": {
      "text/plain": [
       "GridSearchCV(estimator=Pipeline(steps=[('standardscaler', StandardScaler()),\n",
       "                                       ('svc', SVC())]),\n",
       "             n_jobs=-1,\n",
       "             param_grid=[{'svc__C': [1, 10, 100, 1000, 5000],\n",
       "                          'svc__gamma': [0.01, 0.001, 0.0001, 1e-05],\n",
       "                          'svc__kernel': ['rbf']}])"
      ]
     },
     "execution_count": 24,
     "metadata": {},
     "output_type": "execute_result"
    }
   ],
   "source": [
    "tuned_parameters = [{'svc__kernel': ['rbf'], 'svc__gamma': [1e-2, 1e-3, 1e-4, 1e-5],\n",
    "                     'svc__C': [1, 10, 100, 1000, 5000]},]\n",
    "search = GridSearchCV(clf, tuned_parameters, n_jobs=-1)\n",
    "search.fit(X_all_train, y_all_train)"
   ]
  },
  {
   "cell_type": "code",
   "execution_count": 25,
   "metadata": {},
   "outputs": [
    {
     "data": {
      "text/plain": [
       "{'svc__C': 5000, 'svc__gamma': 0.001, 'svc__kernel': 'rbf'}"
      ]
     },
     "execution_count": 25,
     "metadata": {},
     "output_type": "execute_result"
    }
   ],
   "source": [
    "search.best_params_"
   ]
  },
  {
   "cell_type": "code",
   "execution_count": 26,
   "metadata": {},
   "outputs": [
    {
     "data": {
      "text/plain": [
       "0.991047448522829"
      ]
     },
     "execution_count": 26,
     "metadata": {},
     "output_type": "execute_result"
    }
   ],
   "source": [
    "best_svc = search.best_estimator_\n",
    "best_svc.score(X_all_test, y_all_test)"
   ]
  },
  {
   "cell_type": "markdown",
   "metadata": {},
   "source": [
    "# Random Forest Classifier"
   ]
  },
  {
   "cell_type": "code",
   "execution_count": 37,
   "metadata": {},
   "outputs": [],
   "source": [
    "from sklearn.ensemble import RandomForestClassifier"
   ]
  },
  {
   "cell_type": "code",
   "execution_count": 38,
   "metadata": {},
   "outputs": [
    {
     "name": "stdout",
     "output_type": "stream",
     "text": [
      "Score: 0.9368845120859445\n",
      "F1 Score: 0.9363348716092804\n"
     ]
    }
   ],
   "source": [
    "clf = RandomForestClassifier()\n",
    "clf.fit(X_air_train, y_air_train)\n",
    "y_air_preds = clf.predict(X_air_test)\n",
    "print(\"Score: {}\".format(clf.score(X_air_test, y_air_test)))\n",
    "print(\"F1 Score: {}\".format(f1_score(y_air_test, y_air_preds, average='weighted')))"
   ]
  },
  {
   "cell_type": "code",
   "execution_count": 39,
   "metadata": {},
   "outputs": [
    {
     "name": "stdout",
     "output_type": "stream",
     "text": [
      "Score: 0.9794091316025068\n",
      "F1 Score: 0.9793887793911773\n"
     ]
    }
   ],
   "source": [
    "clf = RandomForestClassifier()\n",
    "clf.fit(X_road_train, y_road_train)\n",
    "y_road_preds = clf.predict(X_road_test)\n",
    "print(\"Score: {}\".format(clf.score(X_road_test, y_road_test)))\n",
    "print(\"F1 Score: {}\".format(f1_score(y_road_test, y_road_preds, average='weighted')))"
   ]
  },
  {
   "cell_type": "code",
   "execution_count": 40,
   "metadata": {},
   "outputs": [
    {
     "name": "stdout",
     "output_type": "stream",
     "text": [
      "Score: 0.999104744852283\n",
      "F1 Score: 0.9991050684898917\n"
     ]
    }
   ],
   "source": [
    "clf = RandomForestClassifier()\n",
    "clf.fit(X_all_train, y_all_train)\n",
    "y_all_preds = clf.predict(X_all_test)\n",
    "print(\"Score: {}\".format(clf.score(X_all_test, y_all_test)))\n",
    "print(\"F1 Score: {}\".format(f1_score(y_all_test, y_all_preds, average='weighted')))"
   ]
  },
  {
   "cell_type": "code",
   "execution_count": 41,
   "metadata": {},
   "outputs": [
    {
     "data": {
      "text/html": [
       "<div>\n",
       "<style scoped>\n",
       "    .dataframe tbody tr th:only-of-type {\n",
       "        vertical-align: middle;\n",
       "    }\n",
       "\n",
       "    .dataframe tbody tr th {\n",
       "        vertical-align: top;\n",
       "    }\n",
       "\n",
       "    .dataframe thead th {\n",
       "        text-align: right;\n",
       "    }\n",
       "</style>\n",
       "<table border=\"1\" class=\"dataframe\">\n",
       "  <thead>\n",
       "    <tr style=\"text-align: right;\">\n",
       "      <th></th>\n",
       "      <th>Feature</th>\n",
       "      <th>Importance</th>\n",
       "    </tr>\n",
       "  </thead>\n",
       "  <tbody>\n",
       "    <tr>\n",
       "      <th>0</th>\n",
       "      <td>gps_dist</td>\n",
       "      <td>0.246440</td>\n",
       "    </tr>\n",
       "    <tr>\n",
       "      <th>1</th>\n",
       "      <td>humidity</td>\n",
       "      <td>0.195144</td>\n",
       "    </tr>\n",
       "    <tr>\n",
       "      <th>2</th>\n",
       "      <td>temperature</td>\n",
       "      <td>0.150494</td>\n",
       "    </tr>\n",
       "    <tr>\n",
       "      <th>3</th>\n",
       "      <td>highway_encode</td>\n",
       "      <td>0.096781</td>\n",
       "    </tr>\n",
       "    <tr>\n",
       "      <th>4</th>\n",
       "      <td>landuse_encode</td>\n",
       "      <td>0.066024</td>\n",
       "    </tr>\n",
       "    <tr>\n",
       "      <th>5</th>\n",
       "      <td>distance</td>\n",
       "      <td>0.049257</td>\n",
       "    </tr>\n",
       "    <tr>\n",
       "      <th>6</th>\n",
       "      <td>bin6</td>\n",
       "      <td>0.036405</td>\n",
       "    </tr>\n",
       "    <tr>\n",
       "      <th>7</th>\n",
       "      <td>bin0</td>\n",
       "      <td>0.033461</td>\n",
       "    </tr>\n",
       "    <tr>\n",
       "      <th>8</th>\n",
       "      <td>bin5</td>\n",
       "      <td>0.026619</td>\n",
       "    </tr>\n",
       "    <tr>\n",
       "      <th>9</th>\n",
       "      <td>bin2</td>\n",
       "      <td>0.022688</td>\n",
       "    </tr>\n",
       "    <tr>\n",
       "      <th>10</th>\n",
       "      <td>bin7</td>\n",
       "      <td>0.022277</td>\n",
       "    </tr>\n",
       "    <tr>\n",
       "      <th>11</th>\n",
       "      <td>bin4</td>\n",
       "      <td>0.018403</td>\n",
       "    </tr>\n",
       "    <tr>\n",
       "      <th>12</th>\n",
       "      <td>bin1</td>\n",
       "      <td>0.013623</td>\n",
       "    </tr>\n",
       "    <tr>\n",
       "      <th>13</th>\n",
       "      <td>bin3</td>\n",
       "      <td>0.011474</td>\n",
       "    </tr>\n",
       "    <tr>\n",
       "      <th>14</th>\n",
       "      <td>bin8</td>\n",
       "      <td>0.006023</td>\n",
       "    </tr>\n",
       "    <tr>\n",
       "      <th>15</th>\n",
       "      <td>bin9</td>\n",
       "      <td>0.002424</td>\n",
       "    </tr>\n",
       "    <tr>\n",
       "      <th>16</th>\n",
       "      <td>bin10</td>\n",
       "      <td>0.001195</td>\n",
       "    </tr>\n",
       "    <tr>\n",
       "      <th>17</th>\n",
       "      <td>bin11</td>\n",
       "      <td>0.000573</td>\n",
       "    </tr>\n",
       "    <tr>\n",
       "      <th>18</th>\n",
       "      <td>bin12</td>\n",
       "      <td>0.000302</td>\n",
       "    </tr>\n",
       "    <tr>\n",
       "      <th>19</th>\n",
       "      <td>bin15</td>\n",
       "      <td>0.000158</td>\n",
       "    </tr>\n",
       "    <tr>\n",
       "      <th>20</th>\n",
       "      <td>bin13</td>\n",
       "      <td>0.000120</td>\n",
       "    </tr>\n",
       "    <tr>\n",
       "      <th>21</th>\n",
       "      <td>bin14</td>\n",
       "      <td>0.000115</td>\n",
       "    </tr>\n",
       "  </tbody>\n",
       "</table>\n",
       "</div>"
      ],
      "text/plain": [
       "           Feature  Importance\n",
       "0         gps_dist    0.246440\n",
       "1         humidity    0.195144\n",
       "2      temperature    0.150494\n",
       "3   highway_encode    0.096781\n",
       "4   landuse_encode    0.066024\n",
       "5         distance    0.049257\n",
       "6             bin6    0.036405\n",
       "7             bin0    0.033461\n",
       "8             bin5    0.026619\n",
       "9             bin2    0.022688\n",
       "10            bin7    0.022277\n",
       "11            bin4    0.018403\n",
       "12            bin1    0.013623\n",
       "13            bin3    0.011474\n",
       "14            bin8    0.006023\n",
       "15            bin9    0.002424\n",
       "16           bin10    0.001195\n",
       "17           bin11    0.000573\n",
       "18           bin12    0.000302\n",
       "19           bin15    0.000158\n",
       "20           bin13    0.000120\n",
       "21           bin14    0.000115"
      ]
     },
     "execution_count": 41,
     "metadata": {},
     "output_type": "execute_result"
    }
   ],
   "source": [
    "importances = clf.feature_importances_\n",
    "std = np.std([tree.feature_importances_ for tree in clf.estimators_],axis = 0)\n",
    "indices = np.argsort(importances)[::-1]\n",
    "\n",
    "features = []\n",
    "importance = []\n",
    "\n",
    "for f in range(X_all_train.shape[1]):\n",
    "    features.append(X_all_train.columns[indices[f]])\n",
    "    importance.append(importances[indices[f]])\n",
    "out = pd.DataFrame()\n",
    "out['Feature'] = features\n",
    "out['Importance'] = importance\n",
    "out"
   ]
  },
  {
   "cell_type": "code",
   "execution_count": 32,
   "metadata": {},
   "outputs": [
    {
     "data": {
      "image/png": "[encoded data removed]",
      "text/plain": [
       "<Figure size 720x432 with 1 Axes>"
      ]
     },
     "metadata": {
      "needs_background": "light"
     },
     "output_type": "display_data"
    }
   ],
   "source": [
    "fig, ax = plt.subplots(figsize = (10,6))\n",
    "top5 = out[:8][::-1]\n",
    "plt.barh(top5['Feature'], top5['Importance'], color = '#3CB371')\n",
    "plt.xlabel('Importance',fontsize = 16)\n",
    "plt.ylabel('Feature',fontsize = 16)\n",
    "plt.title('RF Classifier Feature Importance', fontsize = 16)\n",
    "plt.tight_layout()\n",
    "#plt.savefig(path.join(graph_path, 'rf_importance2.pdf'))"
   ]
  },
  {
   "cell_type": "code",
   "execution_count": 33,
   "metadata": {},
   "outputs": [
    {
     "data": {
      "text/plain": [
       "{'bootstrap': True,\n",
       " 'ccp_alpha': 0.0,\n",
       " 'class_weight': None,\n",
       " 'criterion': 'gini',\n",
       " 'max_depth': None,\n",
       " 'max_features': 'auto',\n",
       " 'max_leaf_nodes': None,\n",
       " 'max_samples': None,\n",
       " 'min_impurity_decrease': 0.0,\n",
       " 'min_impurity_split': None,\n",
       " 'min_samples_leaf': 1,\n",
       " 'min_samples_split': 2,\n",
       " 'min_weight_fraction_leaf': 0.0,\n",
       " 'n_estimators': 100,\n",
       " 'n_jobs': None,\n",
       " 'oob_score': False,\n",
       " 'random_state': None,\n",
       " 'verbose': 0,\n",
       " 'warm_start': False}"
      ]
     },
     "execution_count": 33,
     "metadata": {},
     "output_type": "execute_result"
    }
   ],
   "source": [
    "clf.get_params()"
   ]
  },
  {
   "cell_type": "code",
   "execution_count": 34,
   "metadata": {},
   "outputs": [
    {
     "name": "stdout",
     "output_type": "stream",
     "text": [
      "Fitting 3 folds for each of 1 candidates, totalling 3 fits\n"
     ]
    },
    {
     "data": {
      "text/plain": [
       "RandomizedSearchCV(cv=3, estimator=RandomForestClassifier(), n_iter=1,\n",
       "                   n_jobs=-1,\n",
       "                   param_distributions={'min_samples_leaf': [1, 2, 4]},\n",
       "                   random_state=0, verbose=2)"
      ]
     },
     "execution_count": 34,
     "metadata": {},
     "output_type": "execute_result"
    }
   ],
   "source": [
    "# Random Forest Classifier Hyperparam search\n",
    "\n",
    "from sklearn.model_selection import RandomizedSearchCV\n",
    "\n",
    "#n_estimators = [int(x) for x in np.linspace(start = 100, stop = 2000, num = 20)]\n",
    "#max_features = ['auto', 'sqrt']\n",
    "#max_depth = [int(x) for x in np.linspace(10, 100, num = 10)]\n",
    "#min_samples_split = [2, 5, 10]\n",
    "min_samples_leaf = [1, 2, 4]\n",
    "#bootstrap = [True, False]\n",
    "\n",
    "random_grid = {#'n_estimators': n_estimators,\n",
    "               #'max_features': max_features,\n",
    "               #'max_depth': max_depth,\n",
    "               #'min_samples_split': min_samples_split,\n",
    "               'min_samples_leaf': min_samples_leaf,\n",
    "               #'bootstrap': bootstrap\n",
    "                }\n",
    "\n",
    "clf = RandomForestClassifier()\n",
    "\n",
    "rf_random = RandomizedSearchCV(estimator = clf, param_distributions = random_grid, n_iter = 1, cv = 3, verbose=2, random_state=0, n_jobs = -1)\n",
    "\n",
    "rf_random.fit(X_all_train, y_all_train)"
   ]
  },
  {
   "cell_type": "code",
   "execution_count": 35,
   "metadata": {},
   "outputs": [
    {
     "data": {
      "text/plain": [
       "{'min_samples_leaf': 4}"
      ]
     },
     "execution_count": 35,
     "metadata": {},
     "output_type": "execute_result"
    }
   ],
   "source": [
    "best_estimator = rf_random.best_estimator_\n",
    "rf_random.best_params_"
   ]
  },
  {
   "cell_type": "code",
   "execution_count": 36,
   "metadata": {},
   "outputs": [
    {
     "data": {
      "text/plain": [
       "0.9986571172784243"
      ]
     },
     "execution_count": 36,
     "metadata": {},
     "output_type": "execute_result"
    }
   ],
   "source": [
    "best_estimator.score(X_all_test, y_all_test)"
   ]
  },
  {
   "cell_type": "code",
   "execution_count": 37,
   "metadata": {},
   "outputs": [
    {
     "data": {
      "text/plain": [
       "0.9986577999047157"
      ]
     },
     "execution_count": 37,
     "metadata": {},
     "output_type": "execute_result"
    },
    {
     "data": {
      "image/png": "[encoded data removed]",
      "text/plain": [
       "<Figure size 432x288 with 2 Axes>"
      ]
     },
     "metadata": {
      "needs_background": "light"
     },
     "output_type": "display_data"
    }
   ],
   "source": [
    "y_all_preds = best_estimator.predict(X_all_test)\n",
    "plot_confusion_matrix(best_estimator, X_all_test, y_all_test, display_labels=['Indoor', 'Outdoor','Travelling'])\n",
    "f1_score(y_all_test, y_all_preds, average='weighted')"
   ]
  },
  {
   "cell_type": "markdown",
   "metadata": {},
   "source": [
    "## F1 Score Change Graph"
   ]
  },
  {
   "cell_type": "code",
   "execution_count": 38,
   "metadata": {},
   "outputs": [
    {
     "data": {
      "image/png": "[encoded data removed]",
      "text/plain": [
       "<Figure size 720x432 with 1 Axes>"
      ]
     },
     "metadata": {
      "needs_background": "light"
     },
     "output_type": "display_data"
    }
   ],
   "source": [
    "df = pd.DataFrame({'air': [0.583,0.790,0.899,0.955], 'road': [0.598,0.849,0.919,0.971], 'all': [0.634,0.889,0.955,0.987]}, \n",
    "             index=['NB','KNN','SVM','RF'])\n",
    "\n",
    "df = df.sort_values(by='air')\n",
    "\n",
    "fig, ax = plt.subplots(figsize=(10,6))\n",
    "plt.title('F1 Score', fontsize=16)\n",
    "plt.xlabel('Classifier', fontsize=16)\n",
    "plt.ylabel('F1 Score', fontsize=16)\n",
    "ax.bar(df.index, df['all'], color = 'lightcoral', label='AIRSpeck+Road type+landuse')\n",
    "ax.bar(df.index, df['road'], color = '#3CB371', label='AIRSpeck+Road type')\n",
    "ax.bar(df.index, df['air'], color = 'skyblue', label='AIRSpeck')\n",
    "ax.legend()\n",
    "plt.tight_layout()\n",
    "#plt.savefig(path.join(graph_path, 'feature_difference.jpg'))"
   ]
  },
  {
   "cell_type": "markdown",
   "metadata": {},
   "source": [
    "## Visual evaluation of held out set"
   ]
  },
  {
   "cell_type": "code",
   "execution_count": 39,
   "metadata": {},
   "outputs": [],
   "source": [
    "# Code from mapping notebook (could put this in a .py file)\n",
    "from geopy import distance\n",
    "import folium\n",
    "\n",
    "def getCoords(df, timestamp=False):\n",
    "    # return list of lists, each inside list contains the coordinate of one data point\n",
    "    coords = df.filter(['gpsLatitude', 'gpsLongitude'])\n",
    "    coords = list(coords.to_records(index=timestamp))\n",
    "    return [list(c) for c in coords]\n",
    "\n",
    "def getMap(coords, df, transport=False, classification=False, line=False):\n",
    "    # draw the map, if classification=True, draw different class with different colors\n",
    "    # Maps © www.thunderforest.com, Data © www.osm.org/copyright\n",
    "    m = folium.Map(location=coords[0], zoom_start=12)\n",
    "    if transport:\n",
    "        m = folium.Map(location=coords[0], zoom_start=12, tiles = 'https://tile.thunderforest.com/transport/{z}/{x}/{y}.png?apikey=79284124c2f24955b9cd0d84c306bd0d', attr= \"Transport\")\n",
    "    cs = []\n",
    "    colour = 'red'\n",
    "    for i,c in enumerate(coords):\n",
    "        if classification==True:\n",
    "            io = df.iloc[i]['pred_label']\n",
    "            if io == 0:\n",
    "                # Indoor\n",
    "                colour = 'crimson'\n",
    "            elif io == 1:\n",
    "                # Outdoor\n",
    "                colour = 'green'\n",
    "            elif io == 2:\n",
    "                # Commuting\n",
    "                colour = 'darkblue'\n",
    "            \n",
    "        coord = c\n",
    "        cs.append(coord)\n",
    "        \n",
    "        label = \"Coords: {0}\".format(c)\n",
    "        if classification== True:\n",
    "            label += \"\\n Classification: {0}\".format(io)\n",
    "        \n",
    "        folium.Circle(\n",
    "            radius=10,\n",
    "            location=coord,\n",
    "            popup=label,\n",
    "            color=colour,\n",
    "            fill=True,\n",
    "        ).add_to(m)\n",
    "    \n",
    "    if line==True:\n",
    "        folium.PolyLine(cs).add_to(m)\n",
    "    return m\n",
    "\n",
    "def getDistTwoPoints(coords1, coords2):\n",
    "    # Returns approximate estimate of meters between 2 gps coords\n",
    "    return distance.distance(coords1, coords2).km * 1000\n",
    "\n",
    "def getTimeDiffTwoPoints(time1, time2):\n",
    "    return pd.Timedelta(time2 - time1).seconds\n",
    "\n",
    "def getDistList(coordList):\n",
    "    distList = []\n",
    "    for x in range(len(coordList)-1):\n",
    "        distList.append(getDistTwoPoints(coordList[x], coordList[x+1]))\n",
    "    return distList\n",
    "\n",
    "def getDistAndTime(airspeck):\n",
    "    # calculate the speed\n",
    "    outList = []\n",
    "    coordList = getCoords(airspeck, timestamp = True)\n",
    "    for x in range(len(coordList)-1):\n",
    "        t0, t1 = coordList[x][0], coordList[x+1][0]\n",
    "        c0, c1 = coordList[x][1:3], coordList[x+1][1:3]\n",
    "        dt = getTimeDiffTwoPoints(t0,t1)\n",
    "        dist = getDistTwoPoints(c0,c1)\n",
    "        instant_speed = dist/dt\n",
    "        outList.append((coordList[x][0],instant_speed))\n",
    "        \n",
    "    return pd.DataFrame(outList, columns=[\"timestamp\", \"instant_speed\"]).set_index(\"timestamp\")"
   ]
  },
  {
   "cell_type": "code",
   "execution_count": 40,
   "metadata": {},
   "outputs": [],
   "source": [
    "def view_missing_value(df):\n",
    "    for column in list(df.columns):\n",
    "        print(\"{}:  {} % missing values \\n\".format(column, ((len(df) - df[column].count()) / len(df))*100))"
   ]
  },
  {
   "cell_type": "code",
   "execution_count": 41,
   "metadata": {
    "scrolled": true
   },
   "outputs": [],
   "source": [
    "test = pd.read_csv(path.join(data_dir, \"london_unseen_data_with_roads_distance_land.csv\"))\n",
    "test['highway'] = test['highway'].astype('category')\n",
    "test['highway_encode'] = test['highway'].cat.codes\n",
    "test['landuse'] = test['landuse'].astype('category')\n",
    "test['landuse_encode'] = test['landuse'].cat.codes\n",
    "#test.dropna(axis=0, inplace=True)\n",
    "test_x = test[chosen_columns_all]"
   ]
  },
  {
   "cell_type": "code",
   "execution_count": 42,
   "metadata": {},
   "outputs": [],
   "source": [
    "test_preds = best_estimator.predict(test_x)\n",
    "test['i/o'] = test_preds"
   ]
  },
  {
   "cell_type": "code",
   "execution_count": 43,
   "metadata": {},
   "outputs": [],
   "source": [
    "for i in range(800,1000):\n",
    "    test.loc[i, 'label'] = 2"
   ]
  },
  {
   "cell_type": "code",
   "execution_count": 44,
   "metadata": {},
   "outputs": [
    {
     "data": {
      "text/plain": [
       "(array([0, 2]), array([669, 697]))"
      ]
     },
     "execution_count": 44,
     "metadata": {},
     "output_type": "execute_result"
    }
   ],
   "source": [
    "np.unique(test['label'], return_counts=True)"
   ]
  },
  {
   "cell_type": "code",
   "execution_count": 46,
   "metadata": {},
   "outputs": [
    {
     "data": {
      "text/plain": [
       "(array([0, 1, 2]), array([461, 414, 491]))"
      ]
     },
     "execution_count": 46,
     "metadata": {},
     "output_type": "execute_result"
    }
   ],
   "source": [
    "np.unique(test['i/o'],return_counts=True)\n",
    "# We get an interesting situation where everything is considered outside. I think this is because of the temperature and humidity being particularly high"
   ]
  },
  {
   "cell_type": "code",
   "execution_count": 275,
   "metadata": {},
   "outputs": [
    {
     "data": {
      "text/plain": [
       "(array([0, 2]), array([669, 697]))"
      ]
     },
     "execution_count": 275,
     "metadata": {},
     "output_type": "execute_result"
    }
   ],
   "source": [
    "np.unique(test['label'],return_counts=True)"
   ]
  },
  {
   "cell_type": "code",
   "execution_count": 276,
   "metadata": {},
   "outputs": [
    {
     "data": {
      "text/plain": [
       "0.547580667899929"
      ]
     },
     "execution_count": 276,
     "metadata": {},
     "output_type": "execute_result"
    },
    {
     "data": {
      "image/png": "[encoded data removed]",
      "text/plain": [
       "<Figure size 432x288 with 2 Axes>"
      ]
     },
     "metadata": {
      "needs_background": "light"
     },
     "output_type": "display_data"
    }
   ],
   "source": [
    "plot_confusion_matrix(best_estimator, test_x, test['label'], display_labels=['Indoor', 'Outdoor','Travelling'])\n",
    "f1_score(test['label'], test['i/o'], average='weighted')"
   ]
  }
 ],
 "metadata": {
  "kernelspec": {
   "display_name": "Python 3",
   "language": "python",
   "name": "python3"
  },
  "language_info": {
   "codemirror_mode": {
    "name": "ipython",
    "version": 3
   },
   "file_extension": ".py",
   "mimetype": "text/x-python",
   "name": "python",
   "nbconvert_exporter": "python",
   "pygments_lexer": "ipython3",
   "version": "3.8.2"
  }
 },
 "nbformat": 4,
 "nbformat_minor": 4
}
