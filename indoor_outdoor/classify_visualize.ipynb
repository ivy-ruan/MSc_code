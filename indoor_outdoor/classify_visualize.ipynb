{
 "cells": [
  {
   "cell_type": "code",
   "execution_count": 1,
   "id": "58cd5a5e",
   "metadata": {},
   "outputs": [],
   "source": [
    "# visual inhale data points"
   ]
  },
  {
   "cell_type": "code",
   "execution_count": 3,
   "id": "3266341d",
   "metadata": {},
   "outputs": [],
   "source": [
    "import pandas as pd\n",
    "import numpy as np\n",
    "from os import path\n",
    "from sklearn.neighbors import KNeighborsClassifier\n",
    "from sklearn.cluster import KMeans\n",
    "import data_process as dp\n",
    "import draw_map as dm\n",
    "from sklearn.model_selection import train_test_split, cross_val_score\n",
    "from sklearn.ensemble import RandomForestClassifier\n",
    "from sklearn.metrics import f1_score, plot_confusion_matrix\n",
    "import matplotlib.pyplot as plt"
   ]
  },
  {
   "cell_type": "code",
   "execution_count": 4,
   "id": "78aa57d1",
   "metadata": {},
   "outputs": [],
   "source": [
    "subs = ['LIX001', 'LIX002', 'LIX003', 'LIX004', 'LIX005', 'LIX006']\n",
    "\n",
    "inhale_dir = \"./data/inhale\"\n",
    "inhale_path = path.join(inhale_dir, \"LIX001_airspeck_personal_automatic.csv\")\n",
    "inhale = pd.read_csv(inhale_path)"
   ]
  },
  {
   "cell_type": "code",
   "execution_count": 8,
   "id": "d8a84bd4",
   "metadata": {},
   "outputs": [],
   "source": [
    "inhale_gps = inhale[['gpsLatitude', 'gpsLongitude']]\n",
    "\n",
    "for i in range(1,6):\n",
    "    inhale_dir = \"./data/inhale\"\n",
    "    inhale_name = subs[i] + '_airspeck_personal_automatic.csv'\n",
    "    inhale_path = path.join(inhale_dir, inhale_name)\n",
    "    inhale = pd.read_csv(inhale_path)\n",
    "    inhale_gps = pd.concat([inhale_gps, inhale[['gpsLatitude', 'gpsLongitude']]])"
   ]
  },
  {
   "cell_type": "code",
   "execution_count": 9,
   "id": "35abc46c",
   "metadata": {},
   "outputs": [
    {
     "data": {
      "text/plain": [
       "(79287, 2)"
      ]
     },
     "execution_count": 9,
     "metadata": {},
     "output_type": "execute_result"
    }
   ],
   "source": [
    "inhale_gps.shape"
   ]
  },
  {
   "cell_type": "code",
   "execution_count": null,
   "id": "47828e73",
   "metadata": {},
   "outputs": [],
   "source": [
    "c = dm.getCoords(inhale_gps)\n",
    "dm.getMap(c, inhale_gps, 'n', classification=False)"
   ]
  },
  {
   "cell_type": "code",
   "execution_count": 12,
   "id": "ed42f7f9",
   "metadata": {},
   "outputs": [],
   "source": [
    "subs = ['DAP014',    'DAP075',    'DAP080',    'DAP094',    'DAP114']\n",
    "\n",
    "inhale_dir = \"../data/DAPHNE/airspeck_AP\"\n",
    "inhale_path = path.join(inhale_dir, \"DAP014(2)_airspeck_personal_manual.csv\")\n",
    "inhale = pd.read_csv(inhale_path)"
   ]
  },
  {
   "cell_type": "code",
   "execution_count": 14,
   "id": "c8b4fff8",
   "metadata": {},
   "outputs": [],
   "source": [
    "inhale_gps = inhale[['gpsLatitude', 'gpsLongitude']]\n",
    "\n",
    "for i in range(1,5):\n",
    "    inhale_dir = \"../data/DAPHNE/airspeck_AP\"\n",
    "    inhale_name = subs[i] + '(1)_airspeck_personal_manual.csv'\n",
    "    inhale_path = path.join(inhale_dir, inhale_name)\n",
    "    inhale = pd.read_csv(inhale_path)\n",
    "    inhale_gps = pd.concat([inhale_gps, inhale[['gpsLatitude', 'gpsLongitude']]])"
   ]
  },
  {
   "cell_type": "code",
   "execution_count": 15,
   "id": "c19a2ed6",
   "metadata": {},
   "outputs": [
    {
     "data": {
      "text/plain": [
       "(14067, 2)"
      ]
     },
     "execution_count": 15,
     "metadata": {},
     "output_type": "execute_result"
    }
   ],
   "source": [
    "inhale_gps.shape"
   ]
  },
  {
   "cell_type": "code",
   "execution_count": null,
   "id": "5dc722b2",
   "metadata": {},
   "outputs": [],
   "source": [
    "c = dm.getCoords(inhale_gps)\n",
    "dm.getMap(c, inhale_gps, 'n', classification=False)"
   ]
  },
  {
   "cell_type": "code",
   "execution_count": null,
   "id": "4ffa85a6",
   "metadata": {},
   "outputs": [],
   "source": []
  }
 ],
 "metadata": {
  "kernelspec": {
   "display_name": "Python 3",
   "language": "python",
   "name": "python3"
  },
  "language_info": {
   "codemirror_mode": {
    "name": "ipython",
    "version": 3
   },
   "file_extension": ".py",
   "mimetype": "text/x-python",
   "name": "python",
   "nbconvert_exporter": "python",
   "pygments_lexer": "ipython3",
   "version": "3.8.2"
  }
 },
 "nbformat": 4,
 "nbformat_minor": 5
}
