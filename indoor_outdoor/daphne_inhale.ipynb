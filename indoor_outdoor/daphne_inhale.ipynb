{
 "cells": [
  {
   "cell_type": "code",
   "execution_count": 117,
   "id": "ce62aa14",
   "metadata": {},
   "outputs": [],
   "source": [
    "# add OSM features to DAPHNE & INHALE trials"
   ]
  },
  {
   "cell_type": "code",
   "execution_count": 59,
   "id": "6feb2c8f",
   "metadata": {},
   "outputs": [],
   "source": [
    "import pandas as pd\n",
    "import numpy as np\n",
    "from os import path\n",
    "from sklearn.neighbors import KNeighborsClassifier\n",
    "from sklearn.cluster import KMeans\n",
    "import data_process as dp\n",
    "import draw_map as dm\n",
    "from sklearn.model_selection import train_test_split, cross_val_score\n",
    "from sklearn.ensemble import RandomForestClassifier\n",
    "from sklearn.metrics import f1_score, plot_confusion_matrix\n",
    "import matplotlib.pyplot as plt"
   ]
  },
  {
   "cell_type": "code",
   "execution_count": 107,
   "id": "7138af1b",
   "metadata": {},
   "outputs": [],
   "source": [
    "#inhale_dir = \"./data/inhale\"\n",
    "#inhale_path = path.join(inhale_dir, \"LIX005_airspeck_personal_automatic.csv\")\n",
    "#full_data = pd.read_csv(inhale_path)\n",
    "\n",
    "#inhale_dir = \"./data/daphne\"\n",
    "inhale_dir = \"../data/DAPHNE/airspeck_AP\"\n",
    "inhale_path = path.join(inhale_dir, \"DAP114(1)_airspeck_personal_manual.csv\")\n",
    "full_data = pd.read_csv(inhale_path)"
   ]
  },
  {
   "cell_type": "code",
   "execution_count": 61,
   "id": "5ba9ead8",
   "metadata": {},
   "outputs": [],
   "source": [
    "delhi_road = dp.load_highway('delhi_new')"
   ]
  },
  {
   "cell_type": "code",
   "execution_count": 62,
   "id": "bef85d26",
   "metadata": {},
   "outputs": [
    {
     "data": {
      "text/plain": [
       "(159522, 5)"
      ]
     },
     "execution_count": 62,
     "metadata": {},
     "output_type": "execute_result"
    }
   ],
   "source": [
    "delhi_road.shape"
   ]
  },
  {
   "cell_type": "code",
   "execution_count": 63,
   "id": "5373401e",
   "metadata": {},
   "outputs": [
    {
     "data": {
      "text/plain": [
       "(array(['footway', 'motorway', 'primary_secondary', 'residential',\n",
       "        'tertiary', 'unclassified', 'unknown'], dtype=object),\n",
       " array([  5691,   1313,   5558, 130773,   5026,   4263,   6898]))"
      ]
     },
     "execution_count": 63,
     "metadata": {},
     "output_type": "execute_result"
    }
   ],
   "source": [
    "np.unique(delhi_road['highway'].astype(str), return_counts=True)"
   ]
  },
  {
   "cell_type": "code",
   "execution_count": 64,
   "id": "00152d85",
   "metadata": {},
   "outputs": [],
   "source": [
    "delhi_land = dp.load_landuse('inhale')"
   ]
  },
  {
   "cell_type": "code",
   "execution_count": 65,
   "id": "e3094774",
   "metadata": {},
   "outputs": [
    {
     "data": {
      "text/plain": [
       "(375551, 4)"
      ]
     },
     "execution_count": 65,
     "metadata": {},
     "output_type": "execute_result"
    }
   ],
   "source": [
    "delhi_land.shape"
   ]
  },
  {
   "cell_type": "code",
   "execution_count": 66,
   "id": "3fb24f2c",
   "metadata": {},
   "outputs": [
    {
     "data": {
      "text/plain": [
       "(array(['building', 'outland', 'residential'], dtype=object),\n",
       " array([179320,  21861, 174370]))"
      ]
     },
     "execution_count": 66,
     "metadata": {},
     "output_type": "execute_result"
    }
   ],
   "source": [
    "np.unique(delhi_land['landuse'].astype(str), return_counts=True)"
   ]
  },
  {
   "cell_type": "code",
   "execution_count": 108,
   "id": "cfbba59f",
   "metadata": {},
   "outputs": [],
   "source": [
    "daphne = dp.add_road_feature(delhi_road, inhale_path)"
   ]
  },
  {
   "cell_type": "code",
   "execution_count": 109,
   "id": "55113edf",
   "metadata": {},
   "outputs": [],
   "source": [
    "daphne = dp.add_land_feature(delhi_land, daphne)"
   ]
  },
  {
   "cell_type": "code",
   "execution_count": 110,
   "id": "f51ef6e5",
   "metadata": {},
   "outputs": [],
   "source": [
    "daphne = dp.distance_euclidean(daphne)"
   ]
  },
  {
   "cell_type": "code",
   "execution_count": 111,
   "id": "c99dcab1",
   "metadata": {},
   "outputs": [],
   "source": [
    "daphne = dp.calculate_std(daphne, 'gps_dist', k=10)"
   ]
  },
  {
   "cell_type": "code",
   "execution_count": 112,
   "id": "d44cb086",
   "metadata": {},
   "outputs": [
    {
     "data": {
      "text/plain": [
       "(array(['unknown'], dtype=object), array([2457]))"
      ]
     },
     "execution_count": 112,
     "metadata": {},
     "output_type": "execute_result"
    }
   ],
   "source": [
    "np.unique(daphne['landuse'].astype(str), return_counts=True)"
   ]
  },
  {
   "cell_type": "code",
   "execution_count": 113,
   "id": "5cf74ce5",
   "metadata": {},
   "outputs": [
    {
     "data": {
      "text/plain": [
       "(array(['footway', 'primary_secondary', 'residential', 'tertiary',\n",
       "        'unclassified', 'unknown'], dtype=object),\n",
       " array([   1,  210, 2140,    1,   83,   22]))"
      ]
     },
     "execution_count": 113,
     "metadata": {},
     "output_type": "execute_result"
    }
   ],
   "source": [
    "np.unique(daphne['highway'].astype(str), return_counts=True)"
   ]
  },
  {
   "cell_type": "code",
   "execution_count": 114,
   "id": "4f36f52f",
   "metadata": {},
   "outputs": [],
   "source": [
    "bins = ['bin0', 'bin1', 'bin2', 'bin3', 'bin4', 'bin5', 'bin6', 'bin7', 'bin8',\n",
    "       'bin9', 'bin10', 'bin11', 'bin12', 'bin13', 'bin14', 'bin15']\n",
    "daphne[bins] = daphne[bins].div(daphne[bins].sum(axis=1), axis=0)\n",
    "for b in bins:\n",
    "    daphne[b].fillna(0, inplace=True)"
   ]
  },
  {
   "cell_type": "code",
   "execution_count": 115,
   "id": "2845da05",
   "metadata": {},
   "outputs": [
    {
     "data": {
      "text/plain": [
       "Index(['timestamp', 'pm2_5', 'temperature', 'humidity', 'bin0', 'bin1', 'bin2',\n",
       "       'bin3', 'bin4', 'bin5', 'bin6', 'bin7', 'bin8', 'bin9', 'bin10',\n",
       "       'bin11', 'bin12', 'bin13', 'bin14', 'bin15', 'total', 'gpsLongitude',\n",
       "       'gpsLatitude', 'gpsAltitude', 'gpsAccuracy', 'luxLevel', 'motion',\n",
       "       'battery', 'timestamp.1', 'geometry', 'highway', 'distance',\n",
       "       'close_road_idx', 'landuse', 'close_land_idx', 'gps_dist',\n",
       "       'gps_dist_std'],\n",
       "      dtype='object')"
      ]
     },
     "execution_count": 115,
     "metadata": {},
     "output_type": "execute_result"
    }
   ],
   "source": [
    "daphne.columns"
   ]
  },
  {
   "cell_type": "code",
   "execution_count": 116,
   "id": "a32209fa",
   "metadata": {},
   "outputs": [],
   "source": [
    "out_dir = \"./data/daphne/processed_data\"\n",
    "out_path = path.join(out_dir, \"DAP114.csv\")\n",
    "daphne.to_csv(out_path)"
   ]
  }
 ],
 "metadata": {
  "kernelspec": {
   "display_name": "Python 3",
   "language": "python",
   "name": "python3"
  },
  "language_info": {
   "codemirror_mode": {
    "name": "ipython",
    "version": 3
   },
   "file_extension": ".py",
   "mimetype": "text/x-python",
   "name": "python",
   "nbconvert_exporter": "python",
   "pygments_lexer": "ipython3",
   "version": "3.8.2"
  }
 },
 "nbformat": 4,
 "nbformat_minor": 5
}
