{
 "cells": [
  {
   "cell_type": "code",
   "execution_count": 14,
   "id": "a8fd1e89",
   "metadata": {},
   "outputs": [],
   "source": [
    "# try to add station feature (negative results)"
   ]
  },
  {
   "cell_type": "code",
   "execution_count": 1,
   "id": "eab9e4c3",
   "metadata": {},
   "outputs": [],
   "source": [
    "import os\n",
    "import warnings\n",
    "warnings. filterwarnings(\"ignore\")\n",
    "\n",
    "import pandas as pd\n",
    "import numpy as np\n",
    "from os import path\n",
    "from sklearn.neighbors import KNeighborsClassifier\n",
    "from sklearn.cluster import KMeans\n",
    "import data_process as dp\n",
    "import draw_map as dm\n",
    "from sklearn.model_selection import train_test_split, cross_val_score\n",
    "from sklearn.ensemble import RandomForestClassifier\n",
    "from sklearn.metrics import f1_score, plot_confusion_matrix,accuracy_score, confusion_matrix\n",
    "import matplotlib.pyplot as plt\n",
    "import seaborn as sns"
   ]
  },
  {
   "cell_type": "code",
   "execution_count": 2,
   "id": "f4a1cd45",
   "metadata": {},
   "outputs": [],
   "source": [
    "data_dir = \"./data/indoor_outdoor\"\n",
    "graph_dir = \"./graphs\"\n",
    "data_path = os.path.join(data_dir, \"new_data_set_with_station_roads_distance_land.csv\")\n",
    "data = pd.read_csv(data_path)\n",
    "# data.rename(columns={'Unnamed: 0':'timestamp'}, inplace=True)"
   ]
  },
  {
   "cell_type": "code",
   "execution_count": 3,
   "id": "e1fe9506",
   "metadata": {},
   "outputs": [],
   "source": [
    "data['close_road_idx'].fillna(0, inplace=True)\n",
    "data['close_land_idx'].fillna(0, inplace=True)\n",
    "data['close_station_idx'].fillna(0, inplace=True)"
   ]
  },
  {
   "cell_type": "code",
   "execution_count": 4,
   "id": "623e7174",
   "metadata": {},
   "outputs": [],
   "source": [
    "def add_time_feature_train(data, t=10):\n",
    "    try:\n",
    "        data.sort_values(by=['phoneTimestamp'], inplace=True)  \n",
    "    except: \n",
    "        data.sort_values(by=['timestamp'], inplace=True) \n",
    "    time_data = data.iloc[0:2]\n",
    "    time_data['avg_dist'] = 0\n",
    "    time_data['same_land'] = 0\n",
    "    time_data['same_road'] = 0\n",
    "    for i in range(len(data) - t):\n",
    "        if (len(data[i:i+t+1]['file label'].unique()) == 1):\n",
    "            temp = data.iloc[i]\n",
    "            if ((len(data[i:i+t+1]['close_road_idx'].unique()) == 1) and data.iloc[i]['close_road_idx'] != 0):\n",
    "                temp['same_road'] = 1\n",
    "            else:\n",
    "                temp['same_road'] = 0\n",
    "            if ((len(data[i:i+t+1]['close_land_idx'].unique()) == 1) and data.iloc[i]['close_land_idx'] != 0):\n",
    "                temp['same_land'] = 1\n",
    "            else:\n",
    "                temp['same_land'] = 0  \n",
    "            temp['avg_dist'] = data[i:i+t+1]['gps_dist'].mean()\n",
    "            time_data = time_data.append(temp)\n",
    "        \n",
    "    time_data = time_data.iloc[2:]  \n",
    "    time_data['highway'] = time_data['highway'].astype('category')\n",
    "    time_data['highway_encode'] = time_data['highway'].cat.codes\n",
    "    time_data['landuse'] = time_data['landuse'].astype('category')\n",
    "    time_data['landuse_encode'] = time_data['landuse'].cat.codes\n",
    "    time_data['station'] = time_data['station'].astype('category')\n",
    "    time_data['station_encode'] = time_data['station'].cat.codes\n",
    "    \n",
    "    return time_data"
   ]
  },
  {
   "cell_type": "code",
   "execution_count": 5,
   "id": "0753912c",
   "metadata": {},
   "outputs": [],
   "source": [
    "def add_time_feature(data, t=10):\n",
    "    try:\n",
    "        data.sort_values(by=['phoneTimestamp'], inplace=True)  \n",
    "    except: \n",
    "        data.sort_values(by=['timestamp'], inplace=True) \n",
    "    time_data = data.iloc[0:2]\n",
    "    time_data['avg_dist'] = 0\n",
    "    time_data['same_land'] = 0\n",
    "    time_data['same_road'] = 0\n",
    "    for i in range(len(data) - t):\n",
    "        temp = data.iloc[i]\n",
    "        if ((len(data[i:i+t+1]['close_road_idx'].unique()) == 1) and data.iloc[i]['close_road_idx'] != 0):\n",
    "            temp['same_road'] = 1\n",
    "        else:\n",
    "            temp['same_road'] = 0\n",
    "        if ((len(data[i:i+t+1]['close_land_idx'].unique()) == 1) and data.iloc[i]['close_land_idx'] != 0):\n",
    "            temp['same_land'] = 1\n",
    "        else:\n",
    "            temp['same_land'] = 0  \n",
    "        temp['avg_dist'] = data[i:i+t+1]['gps_dist'].mean()\n",
    "        time_data = time_data.append(temp)\n",
    "        \n",
    "    time_data = time_data.iloc[2:]  \n",
    "    time_data['highway'] = time_data['highway'].astype('category')\n",
    "    time_data['highway_encode'] = time_data['highway'].cat.codes\n",
    "    time_data['landuse'] = time_data['landuse'].astype('category')\n",
    "    time_data['landuse_encode'] = time_data['landuse'].cat.codes\n",
    "    time_data['station'] = time_data['station'].astype('category')\n",
    "    time_data['station_encode'] = time_data['station'].cat.codes\n",
    "    \n",
    "    return time_data"
   ]
  },
  {
   "cell_type": "code",
   "execution_count": 6,
   "id": "ee3d6742",
   "metadata": {},
   "outputs": [],
   "source": [
    "time_data = add_time_feature_train(data, t=37)"
   ]
  },
  {
   "cell_type": "code",
   "execution_count": 7,
   "id": "7c5c40a3",
   "metadata": {},
   "outputs": [
    {
     "data": {
      "text/plain": [
       "(array([0, 1]), array([2067, 2080]))"
      ]
     },
     "execution_count": 7,
     "metadata": {},
     "output_type": "execute_result"
    }
   ],
   "source": [
    "np.unique(time_data['i/o'], return_counts=True) # indoor vs. commuting"
   ]
  },
  {
   "cell_type": "code",
   "execution_count": 8,
   "id": "4aff733a",
   "metadata": {},
   "outputs": [],
   "source": [
    "test = pd.read_csv(path.join(data_dir, \"london_unseen_data_with_station_roads_distance_land.csv\"))\n",
    "for i in range(800,1000):\n",
    "    test.loc[i, 'label'] = 1  # manually re-label data\n",
    "test.loc[test['label'] == 2 , 'label'] = 1 # commuting \n",
    "test['phoneTimestamp'] = test['phoneTimestamp'].astype(str)\n",
    "\n",
    "test['close_road_idx'].fillna(0, inplace=True)\n",
    "test['close_land_idx'].fillna(0, inplace=True)\n",
    "test['close_station_idx'].fillna(0, inplace=True)"
   ]
  },
  {
   "cell_type": "code",
   "execution_count": 9,
   "id": "db644106",
   "metadata": {},
   "outputs": [],
   "source": [
    "test_time_data = add_time_feature(test, t=37)"
   ]
  },
  {
   "cell_type": "code",
   "execution_count": 10,
   "id": "817bc057",
   "metadata": {},
   "outputs": [],
   "source": [
    "all_cols = ['bin0', 'bin1', 'bin2', 'bin3', 'bin4', 'bin5', 'bin6', 'bin7', 'bin8',\n",
    "       'bin9', 'bin10', 'bin11', 'bin12', 'bin13', 'bin14', 'bin15', 'highway_encode', 'distance', 'landuse_encode', \n",
    "                  'avg_dist', 'same_road', 'same_land', 'station_encode', 'station_distance']"
   ]
  },
  {
   "cell_type": "code",
   "execution_count": 11,
   "id": "f4bea226",
   "metadata": {},
   "outputs": [
    {
     "data": {
      "text/plain": [
       "0.7682468021068473"
      ]
     },
     "execution_count": 11,
     "metadata": {},
     "output_type": "execute_result"
    }
   ],
   "source": [
    "X = time_data[all_cols] \n",
    "y = time_data['i/o']\n",
    "clf = RandomForestClassifier(random_state=0)\n",
    "clf.fit(X, y)\n",
    "    \n",
    "test_x = test_time_data[all_cols]\n",
    "y = test_time_data['label']\n",
    "\n",
    "y_test_preds = clf.predict(test_x)\n",
    "test_time_data['pred_label'] = y_test_preds\n",
    "    \n",
    "score = accuracy_score(y, test_time_data['pred_label'])\n",
    "score"
   ]
  },
  {
   "cell_type": "code",
   "execution_count": 12,
   "id": "0cf6f03a",
   "metadata": {},
   "outputs": [],
   "source": [
    "def smooth_label(data, window_size = 10, percentage = 1):\n",
    "    i = 0    \n",
    "    while i < (len(data)-window_size-1) :\n",
    "        if sum(data.iloc[i:i+window_size+1]['pred_label'] == 0) > percentage: \n",
    "            data.iloc[i:i+window_size+1]['pred_label'] = 0\n",
    "        i += window_size\n",
    "    return data"
   ]
  },
  {
   "cell_type": "code",
   "execution_count": 13,
   "id": "ef381e37",
   "metadata": {},
   "outputs": [
    {
     "name": "stdout",
     "output_type": "stream",
     "text": [
      "Score: 0.8081264108352144\n",
      "F1 Score: 0.807486717857095\n"
     ]
    }
   ],
   "source": [
    "X = time_data[all_cols] \n",
    "y = time_data['i/o']\n",
    "clf = RandomForestClassifier(random_state=0)\n",
    "clf.fit(X, y)\n",
    "\n",
    "test_x = test_time_data[all_cols]\n",
    "y = test_time_data['label']\n",
    "y_test_preds = clf.predict(test_x)\n",
    "test_time_data['pred_label'] = y_test_preds\n",
    "\n",
    "test_time_data = smooth_label(test_time_data, window_size=10, percentage=3)\n",
    "test_time_data.loc[test_time_data['landuse'] == 'outland', 'pred_label'] = 1\n",
    "test_time_data.loc[test_time_data['highway'].isin(['tertiary', 'unclassified', 'primary_secondary']), 'pred_label'] = 1\n",
    "\n",
    "\n",
    "print(\"Score: {}\".format(accuracy_score(y, test_time_data['pred_label'])))\n",
    "print(\"F1 Score: {}\".format(f1_score(y, test_time_data['pred_label'], average='weighted')))"
   ]
  },
  {
   "cell_type": "code",
   "execution_count": null,
   "id": "07da7111",
   "metadata": {},
   "outputs": [],
   "source": []
  }
 ],
 "metadata": {
  "kernelspec": {
   "display_name": "Python 3",
   "language": "python",
   "name": "python3"
  },
  "language_info": {
   "codemirror_mode": {
    "name": "ipython",
    "version": 3
   },
   "file_extension": ".py",
   "mimetype": "text/x-python",
   "name": "python",
   "nbconvert_exporter": "python",
   "pygments_lexer": "ipython3",
   "version": "3.8.2"
  }
 },
 "nbformat": 4,
 "nbformat_minor": 5
}
